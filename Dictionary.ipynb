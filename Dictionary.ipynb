{
 "cells": [
  {
   "cell_type": "markdown",
   "id": "2b0ecb1c-e576-4d65-a311-d857ebca1e0d",
   "metadata": {},
   "source": [
    "**Dictionary\n",
    "\n",
    "key:value pairs         "
   ]
  },
  {
   "cell_type": "code",
   "execution_count": 1,
   "id": "964ccbb0-a715-4cbb-9d77-a15bd7c027d9",
   "metadata": {},
   "outputs": [
    {
     "data": {
      "text/plain": [
       "{1: 'aryan',\n",
       " '2': 'Indore',\n",
       " 'c': 'Trainer',\n",
       " 1.5: [1, 2, 3, 4],\n",
       " '2.6': (11, 22, 33)}"
      ]
     },
     "execution_count": 1,
     "metadata": {},
     "output_type": "execute_result"
    }
   ],
   "source": [
    "d1={1:\"aryan\",\"2\":\"Indore\",\"c\":\"Trainer\",1.5:[1,2,3,4],\"2.6\":(11,22,33)}          #unorderd  #allows hetrogenious values\n",
    "d1"
   ]
  },
  {
   "cell_type": "code",
   "execution_count": 2,
   "id": "a16d141c-65cf-4bfb-8981-5a07a60ef04d",
   "metadata": {},
   "outputs": [
    {
     "name": "stdout",
     "output_type": "stream",
     "text": [
      "1\n",
      "2\n",
      "c\n",
      "1.5\n",
      "2.6\n"
     ]
    }
   ],
   "source": [
    "for i in d1:\n",
    "    print(i)"
   ]
  },
  {
   "cell_type": "code",
   "execution_count": 3,
   "id": "71dbb85e-5cc7-4b1e-856d-7c9a341574ed",
   "metadata": {},
   "outputs": [
    {
     "data": {
      "text/plain": [
       "{'eid': [101, 102, 103, 104, 105],\n",
       " 'ename': ['aryan', 'aditya', 'sajal', 'madhav', 'bhupendra'],\n",
       " 'salary': [1000, 1200, 1400, 1500, 1300],\n",
       " 'profile': ['developer', 'tester', 'HR', 'tester', 'developer'],\n",
       " 'city': ['Indore', 'Ujjain', 'Khandwa', 'Indore', 'Bhopal']}"
      ]
     },
     "execution_count": 3,
     "metadata": {},
     "output_type": "execute_result"
    }
   ],
   "source": [
    "emp={\"eid\":[101,102,103,104,105],\n",
    "     \"ename\":[\"aryan\",\"aditya\",\"sajal\",\"madhav\",\"bhupendra\"],\n",
    "     \"salary\":[1000,1200,1400,1500,1300],\n",
    "     \"profile\":[\"developer\",\"tester\",\"HR\",\"tester\",\"developer\"],\"city\":[\"Indore\",\"Ujjain\",\"Khandwa\",\"Indore\",\"Bhopal\"]}\n",
    "emp"
   ]
  },
  {
   "cell_type": "code",
   "execution_count": 4,
   "id": "9d841631-8112-47fa-b05d-92e41d8a0adb",
   "metadata": {},
   "outputs": [
    {
     "name": "stdout",
     "output_type": "stream",
     "text": [
      "eid\n",
      "ename\n",
      "salary\n",
      "profile\n",
      "city\n"
     ]
    }
   ],
   "source": [
    "for i  in emp:\n",
    "    print(i)"
   ]
  },
  {
   "cell_type": "code",
   "execution_count": 5,
   "id": "ef7e5a63-6ea5-426a-865e-76b589ebce62",
   "metadata": {},
   "outputs": [
    {
     "data": {
      "text/plain": [
       "list"
      ]
     },
     "execution_count": 5,
     "metadata": {},
     "output_type": "execute_result"
    }
   ],
   "source": [
    "type(emp[\"eid\"])"
   ]
  },
  {
   "cell_type": "code",
   "execution_count": 6,
   "id": "993f49c3-0479-411a-9f73-2d22486b4e54",
   "metadata": {},
   "outputs": [
    {
     "ename": "KeyError",
     "evalue": "'gender'",
     "output_type": "error",
     "traceback": [
      "\u001b[1;31m---------------------------------------------------------------------------\u001b[0m",
      "\u001b[1;31mKeyError\u001b[0m                                  Traceback (most recent call last)",
      "\u001b[1;32m<ipython-input-6-dbf020205a6a>\u001b[0m in \u001b[0;36m<module>\u001b[1;34m\u001b[0m\n\u001b[1;32m----> 1\u001b[1;33m \u001b[0memp\u001b[0m\u001b[1;33m[\u001b[0m\u001b[1;34m\"gender\"\u001b[0m\u001b[1;33m]\u001b[0m\u001b[1;33m\u001b[0m\u001b[1;33m\u001b[0m\u001b[0m\n\u001b[0m",
      "\u001b[1;31mKeyError\u001b[0m: 'gender'"
     ]
    }
   ],
   "source": [
    "emp[\"gender\"]"
   ]
  },
  {
   "cell_type": "code",
   "execution_count": 7,
   "id": "b92255f3-ad3e-49d2-b726-1c53f07912ae",
   "metadata": {},
   "outputs": [
    {
     "data": {
      "text/plain": [
       "[1000, 1200, 1400, 1500, 1300]"
      ]
     },
     "execution_count": 7,
     "metadata": {},
     "output_type": "execute_result"
    }
   ],
   "source": [
    "emp[\"salary\"]"
   ]
  },
  {
   "cell_type": "code",
   "execution_count": 8,
   "id": "604976c0-50fd-40e3-8e65-4fd9e9f672b0",
   "metadata": {},
   "outputs": [],
   "source": [
    "emp[\"gender\"]=[\"male\",\"male\",\"male\",\"male\",\"male\"]"
   ]
  },
  {
   "cell_type": "code",
   "execution_count": 9,
   "id": "8f1c7449-c39e-4110-ad99-84072c249e2e",
   "metadata": {},
   "outputs": [
    {
     "data": {
      "text/plain": [
       "{'eid': [101, 102, 103, 104, 105],\n",
       " 'ename': ['aryan', 'aditya', 'sajal', 'madhav', 'bhupendra'],\n",
       " 'salary': [1000, 1200, 1400, 1500, 1300],\n",
       " 'profile': ['developer', 'tester', 'HR', 'tester', 'developer'],\n",
       " 'city': ['Indore', 'Ujjain', 'Khandwa', 'Indore', 'Bhopal'],\n",
       " 'gender': ['male', 'male', 'male', 'male', 'male']}"
      ]
     },
     "execution_count": 9,
     "metadata": {},
     "output_type": "execute_result"
    }
   ],
   "source": [
    "emp"
   ]
  },
  {
   "cell_type": "code",
   "execution_count": 10,
   "id": "e3e4a96f-750e-4a5a-8daf-e906ea2b9dfe",
   "metadata": {},
   "outputs": [],
   "source": [
    "emp[\"salary\"]=[800,900,1200,1300,1250]"
   ]
  },
  {
   "cell_type": "code",
   "execution_count": 11,
   "id": "8c98d439-8c74-495a-9e46-bac3cf39fcf1",
   "metadata": {},
   "outputs": [
    {
     "data": {
      "text/plain": [
       "{'eid': [101, 102, 103, 104, 105],\n",
       " 'ename': ['aryan', 'aditya', 'sajal', 'madhav', 'bhupendra'],\n",
       " 'salary': [800, 900, 1200, 1300, 1250],\n",
       " 'profile': ['developer', 'tester', 'HR', 'tester', 'developer'],\n",
       " 'city': ['Indore', 'Ujjain', 'Khandwa', 'Indore', 'Bhopal'],\n",
       " 'gender': ['male', 'male', 'male', 'male', 'male']}"
      ]
     },
     "execution_count": 11,
     "metadata": {},
     "output_type": "execute_result"
    }
   ],
   "source": [
    "emp           #key salary data replaced because it is already exisitng"
   ]
  },
  {
   "cell_type": "code",
   "execution_count": 12,
   "id": "ee5d4216-d239-43d0-a6c9-da7c87ffe2b7",
   "metadata": {},
   "outputs": [],
   "source": [
    "import pandas as pd"
   ]
  },
  {
   "cell_type": "code",
   "execution_count": 14,
   "id": "63a1cdc0-150a-4c80-91a1-5c08da8a659d",
   "metadata": {},
   "outputs": [
    {
     "data": {
      "text/html": [
       "<div>\n",
       "<style scoped>\n",
       "    .dataframe tbody tr th:only-of-type {\n",
       "        vertical-align: middle;\n",
       "    }\n",
       "\n",
       "    .dataframe tbody tr th {\n",
       "        vertical-align: top;\n",
       "    }\n",
       "\n",
       "    .dataframe thead th {\n",
       "        text-align: right;\n",
       "    }\n",
       "</style>\n",
       "<table border=\"1\" class=\"dataframe\">\n",
       "  <thead>\n",
       "    <tr style=\"text-align: right;\">\n",
       "      <th></th>\n",
       "      <th>eid</th>\n",
       "      <th>ename</th>\n",
       "      <th>salary</th>\n",
       "      <th>profile</th>\n",
       "      <th>city</th>\n",
       "      <th>gender</th>\n",
       "    </tr>\n",
       "  </thead>\n",
       "  <tbody>\n",
       "    <tr>\n",
       "      <th>0</th>\n",
       "      <td>101</td>\n",
       "      <td>aryan</td>\n",
       "      <td>800</td>\n",
       "      <td>developer</td>\n",
       "      <td>Indore</td>\n",
       "      <td>male</td>\n",
       "    </tr>\n",
       "    <tr>\n",
       "      <th>1</th>\n",
       "      <td>102</td>\n",
       "      <td>aditya</td>\n",
       "      <td>900</td>\n",
       "      <td>tester</td>\n",
       "      <td>Ujjain</td>\n",
       "      <td>male</td>\n",
       "    </tr>\n",
       "    <tr>\n",
       "      <th>2</th>\n",
       "      <td>103</td>\n",
       "      <td>sajal</td>\n",
       "      <td>1200</td>\n",
       "      <td>HR</td>\n",
       "      <td>Khandwa</td>\n",
       "      <td>male</td>\n",
       "    </tr>\n",
       "    <tr>\n",
       "      <th>3</th>\n",
       "      <td>104</td>\n",
       "      <td>madhav</td>\n",
       "      <td>1300</td>\n",
       "      <td>tester</td>\n",
       "      <td>Indore</td>\n",
       "      <td>male</td>\n",
       "    </tr>\n",
       "    <tr>\n",
       "      <th>4</th>\n",
       "      <td>105</td>\n",
       "      <td>bhupendra</td>\n",
       "      <td>1250</td>\n",
       "      <td>developer</td>\n",
       "      <td>Bhopal</td>\n",
       "      <td>male</td>\n",
       "    </tr>\n",
       "  </tbody>\n",
       "</table>\n",
       "</div>"
      ],
      "text/plain": [
       "   eid      ename  salary    profile     city gender\n",
       "0  101      aryan     800  developer   Indore   male\n",
       "1  102     aditya     900     tester   Ujjain   male\n",
       "2  103      sajal    1200         HR  Khandwa   male\n",
       "3  104     madhav    1300     tester   Indore   male\n",
       "4  105  bhupendra    1250  developer   Bhopal   male"
      ]
     },
     "execution_count": 14,
     "metadata": {},
     "output_type": "execute_result"
    }
   ],
   "source": [
    "df=pd.DataFrame(emp)\n",
    "df"
   ]
  },
  {
   "cell_type": "code",
   "execution_count": null,
   "id": "5a8f1480-dade-43ec-a4ae-37bb70e24c91",
   "metadata": {},
   "outputs": [],
   "source": [
    "emp.get(\"gender\")"
   ]
  },
  {
   "cell_type": "code",
   "execution_count": null,
   "id": "54a956f6-adf7-4db9-91f1-7a95554d02d9",
   "metadata": {},
   "outputs": [],
   "source": [
    "emp.items()"
   ]
  },
  {
   "cell_type": "code",
   "execution_count": null,
   "id": "8a94e8aa-7b6b-46bc-a09f-a359ca48d359",
   "metadata": {},
   "outputs": [],
   "source": [
    "for i in emp.items():\n",
    "    print(i)"
   ]
  },
  {
   "cell_type": "code",
   "execution_count": null,
   "id": "45f9ada3-fdc3-4477-b9d5-f259ccaf974f",
   "metadata": {},
   "outputs": [],
   "source": [
    "for i in emp.items():\n",
    "    key,value=i\n",
    "    print(key,\" : \",value)"
   ]
  },
  {
   "cell_type": "code",
   "execution_count": null,
   "id": "81dc20e4-fdd0-458b-bb93-099aabb4d036",
   "metadata": {},
   "outputs": [],
   "source": [
    "emp.popitem()"
   ]
  },
  {
   "cell_type": "code",
   "execution_count": null,
   "id": "e4deab90-b8d6-4841-b721-d30c4c9bc9be",
   "metadata": {},
   "outputs": [],
   "source": [
    "emp[\"gender\"]=[\"male\",\"male\",\"male\",\"male\",\"male\"]"
   ]
  },
  {
   "cell_type": "code",
   "execution_count": null,
   "id": "ea799523-d327-4929-bc7e-5cc6b6aecfb8",
   "metadata": {},
   "outputs": [],
   "source": [
    "emp"
   ]
  },
  {
   "cell_type": "code",
   "execution_count": null,
   "id": "cf6d09ca-5762-4e21-a9bc-a84b833d95f5",
   "metadata": {},
   "outputs": [],
   "source": [
    "bonus={\"eid\":[101,102,103,104,105],\"bonus\":[500,230,200,300,100]}\n",
    "bonus"
   ]
  },
  {
   "cell_type": "code",
   "execution_count": null,
   "id": "b3ea4fd1-cb6c-4729-97c6-c8527407291e",
   "metadata": {},
   "outputs": [],
   "source": [
    "emp.update(bonus)\n",
    "emp"
   ]
  },
  {
   "cell_type": "code",
   "execution_count": null,
   "id": "152c35ff-fbbb-409c-a22a-1ff121e97d33",
   "metadata": {},
   "outputs": [],
   "source": [
    "set(emp[\"profile\"])"
   ]
  },
  {
   "cell_type": "code",
   "execution_count": null,
   "id": "0e6d6731-43b2-491d-801a-3c666817a271",
   "metadata": {},
   "outputs": [],
   "source": [
    "set(emp[\"city\"])"
   ]
  },
  {
   "cell_type": "markdown",
   "id": "8d82ae88-7603-483b-9f62-12ec3b122544",
   "metadata": {
    "tags": []
   },
   "source": [
    "\n",
    "\n",
    "#NESTED Dictionary"
   ]
  },
  {
   "cell_type": "code",
   "execution_count": 14,
   "id": "2792814f-693e-4f41-bb74-5caa7685fd1a",
   "metadata": {
    "tags": []
   },
   "outputs": [],
   "source": [
    "student={\"sname\":[\"aryan\",\"aditya\"],\n",
    "         \"course\":{\"python\":\"60 days\",\"java\":\"60 days\"}}"
   ]
  },
  {
   "cell_type": "code",
   "execution_count": 15,
   "id": "fbaf2af1-a783-4433-bfa7-4593454061de",
   "metadata": {},
   "outputs": [
    {
     "data": {
      "text/plain": [
       "'60 days'"
      ]
     },
     "execution_count": 15,
     "metadata": {},
     "output_type": "execute_result"
    }
   ],
   "source": [
    "student[\"course\"][\"python\"]"
   ]
  },
  {
   "cell_type": "code",
   "execution_count": 16,
   "id": "45be70c0-0b7e-4259-855e-d840b1274262",
   "metadata": {},
   "outputs": [
    {
     "data": {
      "text/plain": [
       "{'eid': [101, 102, 103, 104, 105],\n",
       " 'ename': ['aryan', 'aditya', 'sajal', 'madhav', 'bhupendra'],\n",
       " 'salary': [800, 900, 1200, 1300, 1250],\n",
       " 'profile': ['developer', 'tester', 'HR', 'tester', 'developer'],\n",
       " 'city': ['Indore', 'Ujjain', 'Khandwa', 'Indore', 'Bhopal'],\n",
       " 'gender': ['male', 'male', 'male', 'male', 'male']}"
      ]
     },
     "execution_count": 16,
     "metadata": {},
     "output_type": "execute_result"
    }
   ],
   "source": [
    "emp"
   ]
  },
  {
   "cell_type": "code",
   "execution_count": 17,
   "id": "c31b9e63-f219-43eb-a85b-460490f2ffb6",
   "metadata": {},
   "outputs": [
    {
     "data": {
      "text/plain": [
       "1090.0"
      ]
     },
     "execution_count": 17,
     "metadata": {},
     "output_type": "execute_result"
    }
   ],
   "source": [
    "sum(emp[\"salary\"])/len(emp[\"salary\"])"
   ]
  },
  {
   "cell_type": "code",
   "execution_count": 16,
   "id": "1fc5b4ff-a5a0-413b-b096-1b350defc79d",
   "metadata": {},
   "outputs": [
    {
     "name": "stdout",
     "output_type": "stream",
     "text": [
      "enter marks25\n",
      "enter marks36\n",
      "enter marks96\n",
      "enter marks85\n",
      "enter marks75\n"
     ]
    },
    {
     "data": {
      "text/plain": [
       "[25, 36, 96, 85, 75]"
      ]
     },
     "execution_count": 16,
     "metadata": {},
     "output_type": "execute_result"
    }
   ],
   "source": [
    "marks=[]\n",
    "for i in range(5):\n",
    "    marks.append(int(input(\"enter marks\")))\n",
    "marks"
   ]
  },
  {
   "cell_type": "code",
   "execution_count": 46,
   "id": "8c22a4c3-92eb-4cbb-a2be-738ee01bffcd",
   "metadata": {},
   "outputs": [
    {
     "ename": "TypeError",
     "evalue": "cannot convert dictionary update sequence element #0 to a sequence",
     "output_type": "error",
     "traceback": [
      "\u001b[1;31m---------------------------------------------------------------------------\u001b[0m",
      "\u001b[1;31mTypeError\u001b[0m                                 Traceback (most recent call last)",
      "\u001b[1;32m<ipython-input-46-3b28c38fc366>\u001b[0m in \u001b[0;36m<module>\u001b[1;34m\u001b[0m\n\u001b[1;32m----> 1\u001b[1;33m \u001b[0memp\u001b[0m\u001b[1;33m.\u001b[0m\u001b[0mupdate\u001b[0m\u001b[1;33m(\u001b[0m\u001b[0mmarks\u001b[0m\u001b[1;33m)\u001b[0m\u001b[1;33m\u001b[0m\u001b[1;33m\u001b[0m\u001b[0m\n\u001b[0m\u001b[0;32m      2\u001b[0m \u001b[0memp\u001b[0m\u001b[1;33m\u001b[0m\u001b[1;33m\u001b[0m\u001b[0m\n",
      "\u001b[1;31mTypeError\u001b[0m: cannot convert dictionary update sequence element #0 to a sequence"
     ]
    }
   ],
   "source": [
    "emp.update(marks)\n",
    "emp"
   ]
  },
  {
   "cell_type": "code",
   "execution_count": 33,
   "id": "4bf12078-a246-466e-bbf0-679fd6f3896c",
   "metadata": {},
   "outputs": [],
   "source": [
    "dict1={}"
   ]
  },
  {
   "cell_type": "code",
   "execution_count": 19,
   "id": "39484837",
   "metadata": {},
   "outputs": [
    {
     "data": {
      "text/plain": [
       "dict"
      ]
     },
     "execution_count": 19,
     "metadata": {},
     "output_type": "execute_result"
    }
   ],
   "source": [
    "type(dict1)"
   ]
  },
  {
   "cell_type": "code",
   "execution_count": 20,
   "id": "be0eedd2",
   "metadata": {},
   "outputs": [],
   "source": [
    "dict1[\"1\"]=50"
   ]
  },
  {
   "cell_type": "code",
   "execution_count": 32,
   "id": "84aa3dd3",
   "metadata": {},
   "outputs": [
    {
     "ename": "NameError",
     "evalue": "name 'dict1' is not defined",
     "output_type": "error",
     "traceback": [
      "\u001b[1;31m---------------------------------------------------------------------------\u001b[0m",
      "\u001b[1;31mNameError\u001b[0m                                 Traceback (most recent call last)",
      "\u001b[1;32m<ipython-input-32-e36219336d90>\u001b[0m in \u001b[0;36m<module>\u001b[1;34m\u001b[0m\n\u001b[1;32m----> 1\u001b[1;33m \u001b[0mdict1\u001b[0m\u001b[1;33m\u001b[0m\u001b[1;33m\u001b[0m\u001b[0m\n\u001b[0m",
      "\u001b[1;31mNameError\u001b[0m: name 'dict1' is not defined"
     ]
    }
   ],
   "source": [
    "dict1\n"
   ]
  },
  {
   "cell_type": "code",
   "execution_count": 22,
   "id": "d5f27720",
   "metadata": {},
   "outputs": [],
   "source": [
    "dict1[\"2\"]=50"
   ]
  },
  {
   "cell_type": "code",
   "execution_count": 31,
   "id": "474ea02a",
   "metadata": {},
   "outputs": [],
   "source": [
    "del dict1"
   ]
  },
  {
   "cell_type": "code",
   "execution_count": 60,
   "id": "e142bb92",
   "metadata": {},
   "outputs": [],
   "source": [
    "dict1={}\n",
    "l1=[1,2,3,4,5,6,1,2,3,4,5,6,1,2,3,4,5,6,'adi', 'pika','adi']\n",
    "l2=set(l1.copy())"
   ]
  },
  {
   "cell_type": "code",
   "execution_count": 61,
   "id": "5d9edea9",
   "metadata": {},
   "outputs": [
    {
     "data": {
      "text/plain": [
       "{1: 3, 2: 3, 3: 3, 4: 3, 5: 3, 6: 3, 'adi': 2, 'pika': 1}"
      ]
     },
     "execution_count": 61,
     "metadata": {},
     "output_type": "execute_result"
    }
   ],
   "source": [
    "for i in l2:\n",
    "    dict1[(i)]=l1.count(i)\n",
    "dict1   \n",
    "    \n",
    "   "
   ]
  },
  {
   "cell_type": "code",
   "execution_count": 69,
   "id": "5d0b5fd7",
   "metadata": {},
   "outputs": [
    {
     "data": {
      "text/plain": [
       "dict_values([3, 3, 3, 3, 3, 3, 2, 1])"
      ]
     },
     "execution_count": 69,
     "metadata": {},
     "output_type": "execute_result"
    }
   ],
   "source": [
    "dict1.values()"
   ]
  },
  {
   "cell_type": "code",
   "execution_count": 68,
   "id": "1ce93e8e",
   "metadata": {},
   "outputs": [],
   "source": []
  },
  {
   "cell_type": "markdown",
   "id": "cff5e502",
   "metadata": {},
   "source": [
    "m"
   ]
  },
  {
   "cell_type": "code",
   "execution_count": 70,
   "id": "161ce3d5",
   "metadata": {},
   "outputs": [
    {
     "data": {
      "text/plain": [
       "{1: 3, 2: 3, 3: 3, 4: 3, 5: 3, 6: 3, 'adi': 2, 'pika': 1}"
      ]
     },
     "execution_count": 70,
     "metadata": {},
     "output_type": "execute_result"
    }
   ],
   "source": [
    "dict1"
   ]
  },
  {
   "cell_type": "code",
   "execution_count": 71,
   "id": "5cdb279a",
   "metadata": {},
   "outputs": [],
   "source": [
    "m = dict1[2]"
   ]
  },
  {
   "cell_type": "code",
   "execution_count": 72,
   "id": "59cfd900",
   "metadata": {},
   "outputs": [
    {
     "data": {
      "text/plain": [
       "3"
      ]
     },
     "execution_count": 72,
     "metadata": {},
     "output_type": "execute_result"
    }
   ],
   "source": [
    "m"
   ]
  },
  {
   "cell_type": "code",
   "execution_count": null,
   "id": "8de96a7b",
   "metadata": {},
   "outputs": [],
   "source": [
    "    "
   ]
  },
  {
   "cell_type": "code",
   "execution_count": 5,
   "id": "6178052a",
   "metadata": {},
   "outputs": [
    {
     "name": "stdout",
     "output_type": "stream",
     "text": [
      "adi 1 2 3\n",
      "oika 45 6 7\n"
     ]
    },
    {
     "data": {
      "text/plain": [
       "{'adi': [1.0, 2.0, 3.0], 'oika': [45.0, 6.0, 7.0]}"
      ]
     },
     "execution_count": 5,
     "metadata": {},
     "output_type": "execute_result"
    }
   ],
   "source": [
    "3Krishna 67 68 69\n",
    "\n",
    "Arjun 70 98 63\n",
    "Malika 52 56 60\n",
    "Malika\n",
    "\n",
    "\n",
    "\n",
    "student_marks = {}\n",
    "for i in range(2):\n",
    "    name, *line = input().split()\n",
    "    scores = list(map(float, line))\n",
    "    student_marks[name] = scores\n",
    "student_marks"
   ]
  },
  {
   "cell_type": "code",
   "execution_count": 6,
   "id": "f8266918",
   "metadata": {},
   "outputs": [
    {
     "name": "stdout",
     "output_type": "stream",
     "text": [
      "aj 25 25 25\n"
     ]
    }
   ],
   "source": [
    "name, *line = input().split()\n"
   ]
  },
  {
   "cell_type": "code",
   "execution_count": 7,
   "id": "3b9f50d5",
   "metadata": {},
   "outputs": [
    {
     "data": {
      "text/plain": [
       "'aj'"
      ]
     },
     "execution_count": 7,
     "metadata": {},
     "output_type": "execute_result"
    }
   ],
   "source": [
    "name"
   ]
  },
  {
   "cell_type": "code",
   "execution_count": 8,
   "id": "f4bba2ec",
   "metadata": {},
   "outputs": [
    {
     "data": {
      "text/plain": [
       "['25', '25', '25']"
      ]
     },
     "execution_count": 8,
     "metadata": {},
     "output_type": "execute_result"
    }
   ],
   "source": [
    "line"
   ]
  },
  {
   "cell_type": "code",
   "execution_count": 13,
   "id": "bad269a5",
   "metadata": {},
   "outputs": [],
   "source": [
    "scores = list(map(int,line))"
   ]
  },
  {
   "cell_type": "code",
   "execution_count": 14,
   "id": "0032b17c",
   "metadata": {},
   "outputs": [
    {
     "data": {
      "text/plain": [
       "[25, 25, 25]"
      ]
     },
     "execution_count": 14,
     "metadata": {},
     "output_type": "execute_result"
    }
   ],
   "source": [
    "scores"
   ]
  },
  {
   "cell_type": "code",
   "execution_count": 1,
   "id": "bf3264fa",
   "metadata": {},
   "outputs": [
    {
     "name": "stdout",
     "output_type": "stream",
     "text": [
      "25.00\n"
     ]
    }
   ],
   "source": [
    "a=25\n",
    "print('%.2f'%a)"
   ]
  },
  {
   "cell_type": "code",
   "execution_count": 2,
   "id": "1415f93b",
   "metadata": {},
   "outputs": [
    {
     "data": {
      "text/plain": [
       "25"
      ]
     },
     "execution_count": 2,
     "metadata": {},
     "output_type": "execute_result"
    }
   ],
   "source": [
    "a"
   ]
  },
  {
   "cell_type": "code",
   "execution_count": 27,
   "id": "bf4ac626",
   "metadata": {},
   "outputs": [
    {
     "data": {
      "text/plain": [
       "[2, 4, 5, 5, 5, 6, 6, 8, 8, 9, 57, 714]"
      ]
     },
     "execution_count": 27,
     "metadata": {},
     "output_type": "execute_result"
    }
   ],
   "source": [
    "l=[2,5,6,9,8,714,4,5,6,57,5,8]\n",
    "sorted(l)"
   ]
  },
  {
   "cell_type": "code",
   "execution_count": 77,
   "id": "b7109aa1",
   "metadata": {},
   "outputs": [
    {
     "name": "stdout",
     "output_type": "stream",
     "text": [
      "4\n",
      "1\n",
      "1\n",
      "2\n",
      "2\n",
      "3\n",
      "3\n",
      "4\n",
      "4\n"
     ]
    }
   ],
   "source": [
    " marksheet = [[input(), float(input())] for i in range(int(input()))]"
   ]
  },
  {
   "cell_type": "code",
   "execution_count": 82,
   "id": "90fd9701",
   "metadata": {},
   "outputs": [
    {
     "data": {
      "text/plain": [
       "[['1', 2.0], ['4', 5.0]]"
      ]
     },
     "execution_count": 82,
     "metadata": {},
     "output_type": "execute_result"
    }
   ],
   "source": [
    "marksheet"
   ]
  },
  {
   "cell_type": "code",
   "execution_count": 83,
   "id": "5d3f8698",
   "metadata": {},
   "outputs": [],
   "source": [
    "second_lowest = sorted(list(set([marks for name, marks in marksheet])))[1]"
   ]
  },
  {
   "cell_type": "code",
   "execution_count": 84,
   "id": "b72c189e",
   "metadata": {},
   "outputs": [
    {
     "data": {
      "text/plain": [
       "5.0"
      ]
     },
     "execution_count": 84,
     "metadata": {},
     "output_type": "execute_result"
    }
   ],
   "source": [
    "second_lowest"
   ]
  },
  {
   "cell_type": "code",
   "execution_count": 85,
   "id": "ccf1d88b",
   "metadata": {},
   "outputs": [
    {
     "name": "stdout",
     "output_type": "stream",
     "text": [
      "4\n"
     ]
    }
   ],
   "source": [
    "print('\\n'.join([a for a,b in sorted(marksheet) if b == second_lowest ]))"
   ]
  },
  {
   "cell_type": "code",
   "execution_count": 81,
   "id": "16e86af0",
   "metadata": {},
   "outputs": [
    {
     "name": "stdout",
     "output_type": "stream",
     "text": [
      "2\n",
      "1\n",
      "2\n",
      "4\n",
      "5\n",
      "4\n"
     ]
    }
   ],
   "source": [
    "marksheet = [[input(), float(input())] for i in range(int(input()))]\n",
    "  \n",
    "second_lowest = sorted(list(set([marks for name, marks in marksheet])))[1]\n",
    "print('\\n'.join([a for a,b in sorted(marksheet) if b == second_lowest]))"
   ]
  },
  {
   "cell_type": "code",
   "execution_count": null,
   "id": "04f8c91b",
   "metadata": {},
   "outputs": [],
   "source": []
  }
 ],
 "metadata": {
  "kernelspec": {
   "display_name": "Python 3",
   "language": "python",
   "name": "python3"
  },
  "language_info": {
   "codemirror_mode": {
    "name": "ipython",
    "version": 3
   },
   "file_extension": ".py",
   "mimetype": "text/x-python",
   "name": "python",
   "nbconvert_exporter": "python",
   "pygments_lexer": "ipython3",
   "version": "3.8.8"
  }
 },
 "nbformat": 4,
 "nbformat_minor": 5
}
