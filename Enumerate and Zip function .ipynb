{
 "cells": [
  {
   "cell_type": "markdown",
   "id": "3327f497",
   "metadata": {},
   "source": [
    "# Enumerate()\n",
    "\n",
    "\n",
    "enumerate \n",
    "\n",
    "synatax :-\n",
    "\n",
    "\n",
    "def enumerate(sequence,start=0):\n",
    "    n=start\n",
    "    for elem in sequence:\n",
    "        yeild n, elem\n",
    "        n+=1"
   ]
  },
  {
   "cell_type": "code",
   "execution_count": 1,
   "id": "cb0e6075",
   "metadata": {},
   "outputs": [
    {
     "name": "stdout",
     "output_type": "stream",
     "text": [
      "11\n",
      "22\n",
      "33\n",
      "44\n",
      "55\n"
     ]
    }
   ],
   "source": [
    "l=[11,22,33,44,55]\n",
    "for i in l:\n",
    "    print(i)"
   ]
  },
  {
   "cell_type": "code",
   "execution_count": 12,
   "id": "4e2a6793",
   "metadata": {},
   "outputs": [],
   "source": [
    "x=enumerate(l)"
   ]
  },
  {
   "cell_type": "code",
   "execution_count": 13,
   "id": "e1b80624",
   "metadata": {},
   "outputs": [
    {
     "data": {
      "text/plain": [
       "<enumerate at 0x18ce57046c0>"
      ]
     },
     "execution_count": 13,
     "metadata": {},
     "output_type": "execute_result"
    }
   ],
   "source": [
    "x"
   ]
  },
  {
   "cell_type": "code",
   "execution_count": 14,
   "id": "bce4c239",
   "metadata": {},
   "outputs": [
    {
     "data": {
      "text/plain": [
       "(0, 11)"
      ]
     },
     "execution_count": 14,
     "metadata": {},
     "output_type": "execute_result"
    }
   ],
   "source": [
    "next(x)"
   ]
  },
  {
   "cell_type": "code",
   "execution_count": 15,
   "id": "c498a722",
   "metadata": {},
   "outputs": [
    {
     "data": {
      "text/plain": [
       "(1, 22)"
      ]
     },
     "execution_count": 15,
     "metadata": {},
     "output_type": "execute_result"
    }
   ],
   "source": [
    "next(x)"
   ]
  },
  {
   "cell_type": "code",
   "execution_count": 16,
   "id": "6de25593",
   "metadata": {},
   "outputs": [
    {
     "data": {
      "text/plain": [
       "(2, 33)"
      ]
     },
     "execution_count": 16,
     "metadata": {},
     "output_type": "execute_result"
    }
   ],
   "source": [
    "next(x)"
   ]
  },
  {
   "cell_type": "code",
   "execution_count": 17,
   "id": "b49c3c1d",
   "metadata": {},
   "outputs": [
    {
     "data": {
      "text/plain": [
       "(3, 44)"
      ]
     },
     "execution_count": 17,
     "metadata": {},
     "output_type": "execute_result"
    }
   ],
   "source": [
    "next(x)"
   ]
  },
  {
   "cell_type": "code",
   "execution_count": 18,
   "id": "a7f3ac69",
   "metadata": {},
   "outputs": [
    {
     "data": {
      "text/plain": [
       "(4, 55)"
      ]
     },
     "execution_count": 18,
     "metadata": {},
     "output_type": "execute_result"
    }
   ],
   "source": [
    "next(x)"
   ]
  },
  {
   "cell_type": "code",
   "execution_count": 19,
   "id": "0979b113",
   "metadata": {},
   "outputs": [
    {
     "ename": "StopIteration",
     "evalue": "",
     "output_type": "error",
     "traceback": [
      "\u001b[1;31m---------------------------------------------------------------------------\u001b[0m",
      "\u001b[1;31mStopIteration\u001b[0m                             Traceback (most recent call last)",
      "\u001b[1;32m<ipython-input-19-92de4e9f6b1e>\u001b[0m in \u001b[0;36m<module>\u001b[1;34m\u001b[0m\n\u001b[1;32m----> 1\u001b[1;33m \u001b[0mnext\u001b[0m\u001b[1;33m(\u001b[0m\u001b[0mx\u001b[0m\u001b[1;33m)\u001b[0m\u001b[1;33m\u001b[0m\u001b[1;33m\u001b[0m\u001b[0m\n\u001b[0m",
      "\u001b[1;31mStopIteration\u001b[0m: "
     ]
    }
   ],
   "source": [
    "next(x)"
   ]
  },
  {
   "cell_type": "code",
   "execution_count": 20,
   "id": "a2758645",
   "metadata": {},
   "outputs": [
    {
     "data": {
      "text/plain": [
       "[(1, 11), (2, 22), (3, 33), (4, 44), (5, 55)]"
      ]
     },
     "execution_count": 20,
     "metadata": {},
     "output_type": "execute_result"
    }
   ],
   "source": [
    "list(enumerate(l,start=1))"
   ]
  },
  {
   "cell_type": "code",
   "execution_count": 21,
   "id": "2c5ce9df",
   "metadata": {},
   "outputs": [
    {
     "name": "stdout",
     "output_type": "stream",
     "text": [
      "(1001, 'aj')\n",
      "(1002, 'nk')\n",
      "(1003, 'nc')\n",
      "(1004, 'hc')\n"
     ]
    }
   ],
   "source": [
    "name=['aj','nk','nc','hc']\n",
    "n=enumerate(name,start=1001)\n",
    "for i in n:\n",
    "    print(i)"
   ]
  },
  {
   "cell_type": "code",
   "execution_count": 26,
   "id": "317c8f98",
   "metadata": {},
   "outputs": [
    {
     "name": "stdout",
     "output_type": "stream",
     "text": [
      "Roll no.: Name\n",
      "1001    : aj\n",
      "1002    : nk\n",
      "1003    : nc\n",
      "1004    : hc\n"
     ]
    }
   ],
   "source": [
    "name=['aj','nk','nc','hc']\n",
    "n=enumerate(name,start=1001)\n",
    "print(\"Roll no.: Name\")\n",
    "for i in n :\n",
    "    rollno,name=i\n",
    "    print(rollno,\"   :\",name)"
   ]
  },
  {
   "cell_type": "code",
   "execution_count": 27,
   "id": "9057020b",
   "metadata": {},
   "outputs": [
    {
     "name": "stdout",
     "output_type": "stream",
     "text": [
      "1 : 11\n",
      "2 : 22\n",
      "3 : 33\n"
     ]
    }
   ],
   "source": [
    "for i in enumerate([11,22,33],start=1):\n",
    "    index,value=i\n",
    "    print(index,\":\",value)"
   ]
  },
  {
   "cell_type": "code",
   "execution_count": 29,
   "id": "ea1d8983",
   "metadata": {},
   "outputs": [
    {
     "name": "stdout",
     "output_type": "stream",
     "text": [
      "2 : b\n",
      "4 : d\n",
      "6 : f\n",
      "8 : h\n"
     ]
    }
   ],
   "source": [
    "l=['a','b','c','d','e','f','g','h']\n",
    "n=enumerate(l,start=1)\n",
    "for i in n:\n",
    "    rollno,name=i\n",
    "    if (rollno%2==0):\n",
    "        print(rollno,':',name)"
   ]
  },
  {
   "cell_type": "markdown",
   "id": "2bf4ed3b",
   "metadata": {},
   "source": [
    "# Zip funtion  "
   ]
  },
  {
   "cell_type": "code",
   "execution_count": 30,
   "id": "8b6b6bb1",
   "metadata": {},
   "outputs": [],
   "source": [
    "x=[1,2,3,4]\n",
    "y=[5,6,7,8]\n",
    "z=zip(x,y)"
   ]
  },
  {
   "cell_type": "code",
   "execution_count": 31,
   "id": "9b3300b2",
   "metadata": {},
   "outputs": [
    {
     "data": {
      "text/plain": [
       "(1, 5)"
      ]
     },
     "execution_count": 31,
     "metadata": {},
     "output_type": "execute_result"
    }
   ],
   "source": [
    "next(z)"
   ]
  },
  {
   "cell_type": "code",
   "execution_count": 32,
   "id": "286949d8",
   "metadata": {},
   "outputs": [
    {
     "data": {
      "text/plain": [
       "(2, 6)"
      ]
     },
     "execution_count": 32,
     "metadata": {},
     "output_type": "execute_result"
    }
   ],
   "source": [
    "next(z)"
   ]
  },
  {
   "cell_type": "code",
   "execution_count": 33,
   "id": "76cb40fa",
   "metadata": {},
   "outputs": [
    {
     "data": {
      "text/plain": [
       "(3, 7)"
      ]
     },
     "execution_count": 33,
     "metadata": {},
     "output_type": "execute_result"
    }
   ],
   "source": [
    "next(z)"
   ]
  },
  {
   "cell_type": "code",
   "execution_count": 34,
   "id": "c12df15d",
   "metadata": {},
   "outputs": [
    {
     "data": {
      "text/plain": [
       "(4, 8)"
      ]
     },
     "execution_count": 34,
     "metadata": {},
     "output_type": "execute_result"
    }
   ],
   "source": [
    "next(z)"
   ]
  },
  {
   "cell_type": "code",
   "execution_count": 35,
   "id": "5fb4f8ab",
   "metadata": {},
   "outputs": [
    {
     "data": {
      "text/plain": [
       "[(1, 5), (2, 6), (3, 7), (4, 8)]"
      ]
     },
     "execution_count": 35,
     "metadata": {},
     "output_type": "execute_result"
    }
   ],
   "source": [
    "x=[1,2,3,4]\n",
    "y=[5,6,7,8]\n",
    "list(zip(x,y))"
   ]
  },
  {
   "cell_type": "code",
   "execution_count": 41,
   "id": "25fe396f",
   "metadata": {},
   "outputs": [],
   "source": [
    "x=[1,2,3,4]\n",
    "y=[5,6,7,8]\n",
    "z=[9,10,11,12,13,14]"
   ]
  },
  {
   "cell_type": "code",
   "execution_count": 42,
   "id": "f133a1a1",
   "metadata": {},
   "outputs": [],
   "source": [
    "res=list(zip(x,y,z))"
   ]
  },
  {
   "cell_type": "code",
   "execution_count": 43,
   "id": "24b51a82",
   "metadata": {},
   "outputs": [
    {
     "data": {
      "text/plain": [
       "[(1, 5, 9), (2, 6, 10), (3, 7, 11), (4, 8, 12)]"
      ]
     },
     "execution_count": 43,
     "metadata": {},
     "output_type": "execute_result"
    }
   ],
   "source": [
    "res"
   ]
  },
  {
   "cell_type": "code",
   "execution_count": 44,
   "id": "99d8dee6",
   "metadata": {},
   "outputs": [
    {
     "name": "stdout",
     "output_type": "stream",
     "text": [
      "(1, 5, 9)\n",
      "(2, 6, 10)\n",
      "(3, 7, 11)\n",
      "(4, 8, 12)\n"
     ]
    }
   ],
   "source": [
    "for i in res:\n",
    "    print(i)"
   ]
  },
  {
   "cell_type": "code",
   "execution_count": 46,
   "id": "19af14cf",
   "metadata": {},
   "outputs": [
    {
     "data": {
      "text/plain": [
       "[('a', 'c'), ('b', 'd')]"
      ]
     },
     "execution_count": 46,
     "metadata": {},
     "output_type": "execute_result"
    }
   ],
   "source": [
    "d1={'a':1,'b':2}\n",
    "d2={'c':3,'d':4}\n",
    "list(zip(d1,d2))"
   ]
  },
  {
   "cell_type": "code",
   "execution_count": 47,
   "id": "cd83ab20",
   "metadata": {},
   "outputs": [
    {
     "data": {
      "text/plain": [
       "[('a', 3), ('b', 4)]"
      ]
     },
     "execution_count": 47,
     "metadata": {},
     "output_type": "execute_result"
    }
   ],
   "source": [
    "d1={'a':1,'b':2}\n",
    "d2={'c':3,'d':4}\n",
    "list(zip(d1,d2.values()))"
   ]
  },
  {
   "cell_type": "markdown",
   "id": "37f23200",
   "metadata": {},
   "source": [
    "# Some code of Enumater and zip together"
   ]
  },
  {
   "cell_type": "code",
   "execution_count": 48,
   "id": "cf8fd8d4",
   "metadata": {},
   "outputs": [
    {
     "name": "stdout",
     "output_type": "stream",
     "text": [
      "(101, ('aj', 24))\n",
      "(102, ('nc', 22))\n",
      "(103, ('nk', 36))\n",
      "(104, ('hc', 83))\n"
     ]
    }
   ],
   "source": [
    "names=['aj','nc','nk','hc']\n",
    "ages=[24,22,36,83]\n",
    "for i in enumerate(zip(names,ages),101):\n",
    "    print(i)"
   ]
  },
  {
   "cell_type": "code",
   "execution_count": 49,
   "id": "2ad18f46",
   "metadata": {},
   "outputs": [
    {
     "name": "stdout",
     "output_type": "stream",
     "text": [
      "101 aj 24\n",
      "102 nc 22\n",
      "103 nk 36\n",
      "104 hc 83\n"
     ]
    }
   ],
   "source": [
    "names=['aj','nc','nk','hc']\n",
    "ages=[24,22,36,83]\n",
    "for i in enumerate(zip(names,ages),101):\n",
    "    i_d,data=i\n",
    "    name,age=data\n",
    "    print(i_d,name,age)"
   ]
  },
  {
   "cell_type": "code",
   "execution_count": 57,
   "id": "8ea5eeb5",
   "metadata": {},
   "outputs": [],
   "source": [
    "names=['aj','nc','nk','hc']\n",
    "ages=[24,22,36,83]\n",
    "for i in enumerate(zip(names,ages),101):\n",
    "    i_d,data=i\n",
    "    name,age=data\n",
    "    if (age>20 and name[0]=='s'):\n",
    "        print(i_d,name,age)"
   ]
  },
  {
   "cell_type": "code",
   "execution_count": null,
   "id": "2f214ca0",
   "metadata": {},
   "outputs": [],
   "source": []
  }
 ],
 "metadata": {
  "kernelspec": {
   "display_name": "Python 3",
   "language": "python",
   "name": "python3"
  },
  "language_info": {
   "codemirror_mode": {
    "name": "ipython",
    "version": 3
   },
   "file_extension": ".py",
   "mimetype": "text/x-python",
   "name": "python",
   "nbconvert_exporter": "python",
   "pygments_lexer": "ipython3",
   "version": "3.8.8"
  }
 },
 "nbformat": 4,
 "nbformat_minor": 5
}
