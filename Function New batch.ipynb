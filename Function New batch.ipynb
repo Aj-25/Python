{
 "cells": [
  {
   "cell_type": "markdown",
   "id": "eb0d2abe",
   "metadata": {},
   "source": [
    "# Topics:-\n",
    "\n",
    "Function with default argument\n",
    "Function with Variable argument  -- *args\n",
    "Function with default arguments  -- **kwargs\n",
    "Recrusion\n",
    "\n",
    "nested function \n",
    "local variable\n",
    "global keywords\n",
    "global variable\n",
    "non local keywords\n",
    "\n",
    "lambda expression\n",
    "map \n",
    "filter\n",
    "reduce\n",
    "module,packages,libraries-math,statistics,random,collection,icrecream"
   ]
  },
  {
   "cell_type": "code",
   "execution_count": 1,
   "id": "dcd14ef6",
   "metadata": {},
   "outputs": [],
   "source": [
    "def fun(a,b):\n",
    "    print(a+b)\n",
    "    "
   ]
  },
  {
   "cell_type": "code",
   "execution_count": 2,
   "id": "94ca87ff",
   "metadata": {},
   "outputs": [
    {
     "name": "stdout",
     "output_type": "stream",
     "text": [
      "5\n"
     ]
    }
   ],
   "source": [
    "fun(2,3)"
   ]
  },
  {
   "cell_type": "code",
   "execution_count": 3,
   "id": "23734744",
   "metadata": {},
   "outputs": [
    {
     "ename": "TypeError",
     "evalue": "fun() takes 2 positional arguments but 3 were given",
     "output_type": "error",
     "traceback": [
      "\u001b[1;31m---------------------------------------------------------------------------\u001b[0m",
      "\u001b[1;31mTypeError\u001b[0m                                 Traceback (most recent call last)",
      "\u001b[1;32m<ipython-input-3-7ef66e05cb6b>\u001b[0m in \u001b[0;36m<module>\u001b[1;34m\u001b[0m\n\u001b[1;32m----> 1\u001b[1;33m \u001b[0mfun\u001b[0m\u001b[1;33m(\u001b[0m\u001b[1;36m2\u001b[0m\u001b[1;33m,\u001b[0m\u001b[1;36m3\u001b[0m\u001b[1;33m,\u001b[0m\u001b[1;36m4\u001b[0m\u001b[1;33m)\u001b[0m\u001b[1;33m\u001b[0m\u001b[1;33m\u001b[0m\u001b[0m\n\u001b[0m",
      "\u001b[1;31mTypeError\u001b[0m: fun() takes 2 positional arguments but 3 were given"
     ]
    }
   ],
   "source": [
    "fun(2,3,4)"
   ]
  },
  {
   "cell_type": "code",
   "execution_count": 6,
   "id": "0dfd6587",
   "metadata": {},
   "outputs": [],
   "source": [
    "def fun1(a,b,c):\n",
    "    print(a+b+c)"
   ]
  },
  {
   "cell_type": "code",
   "execution_count": 8,
   "id": "e8c5c73a",
   "metadata": {},
   "outputs": [
    {
     "name": "stdout",
     "output_type": "stream",
     "text": [
      "9\n"
     ]
    }
   ],
   "source": [
    "fun1(2,3,4)"
   ]
  },
  {
   "cell_type": "code",
   "execution_count": 9,
   "id": "7f91ac41",
   "metadata": {},
   "outputs": [
    {
     "ename": "TypeError",
     "evalue": "fun1() missing 1 required positional argument: 'c'",
     "output_type": "error",
     "traceback": [
      "\u001b[1;31m---------------------------------------------------------------------------\u001b[0m",
      "\u001b[1;31mTypeError\u001b[0m                                 Traceback (most recent call last)",
      "\u001b[1;32m<ipython-input-9-a7c5af3f3f21>\u001b[0m in \u001b[0;36m<module>\u001b[1;34m\u001b[0m\n\u001b[1;32m----> 1\u001b[1;33m \u001b[0mfun1\u001b[0m\u001b[1;33m(\u001b[0m\u001b[1;36m2\u001b[0m\u001b[1;33m,\u001b[0m\u001b[1;36m3\u001b[0m\u001b[1;33m)\u001b[0m\u001b[1;33m\u001b[0m\u001b[1;33m\u001b[0m\u001b[0m\n\u001b[0m",
      "\u001b[1;31mTypeError\u001b[0m: fun1() missing 1 required positional argument: 'c'"
     ]
    }
   ],
   "source": [
    "fun1(2,3)"
   ]
  },
  {
   "cell_type": "code",
   "execution_count": 11,
   "id": "47a20e84",
   "metadata": {},
   "outputs": [],
   "source": [
    "def fun2(a,b,c=0):\n",
    "    print(a+b+c)"
   ]
  },
  {
   "cell_type": "code",
   "execution_count": 12,
   "id": "be24d7b2",
   "metadata": {},
   "outputs": [
    {
     "name": "stdout",
     "output_type": "stream",
     "text": [
      "9\n"
     ]
    }
   ],
   "source": [
    "fun2(2,3,4)"
   ]
  },
  {
   "cell_type": "code",
   "execution_count": 13,
   "id": "a8e5db6b",
   "metadata": {},
   "outputs": [
    {
     "name": "stdout",
     "output_type": "stream",
     "text": [
      "5\n"
     ]
    }
   ],
   "source": [
    "fun2(2,3)"
   ]
  },
  {
   "cell_type": "code",
   "execution_count": 26,
   "id": "3c2b3d8f",
   "metadata": {},
   "outputs": [],
   "source": [
    "def fun5(a,b=0,c=0):\n",
    "    print(a+b+c)"
   ]
  },
  {
   "cell_type": "code",
   "execution_count": 27,
   "id": "f221bc74",
   "metadata": {},
   "outputs": [
    {
     "name": "stdout",
     "output_type": "stream",
     "text": [
      "10\n"
     ]
    }
   ],
   "source": [
    "fun5(2,3,5)"
   ]
  },
  {
   "cell_type": "code",
   "execution_count": 28,
   "id": "c0a0f0b8",
   "metadata": {},
   "outputs": [
    {
     "name": "stdout",
     "output_type": "stream",
     "text": [
      "2\n"
     ]
    }
   ],
   "source": [
    "fun5(2)"
   ]
  },
  {
   "cell_type": "code",
   "execution_count": 29,
   "id": "51928e12",
   "metadata": {},
   "outputs": [],
   "source": [
    "def fun6(a=0,b=0,c=0):\n",
    "    print(a+b+c)"
   ]
  },
  {
   "cell_type": "code",
   "execution_count": 30,
   "id": "5227451b",
   "metadata": {},
   "outputs": [
    {
     "name": "stdout",
     "output_type": "stream",
     "text": [
      "0\n"
     ]
    }
   ],
   "source": [
    "fun6()"
   ]
  },
  {
   "cell_type": "code",
   "execution_count": 31,
   "id": "b74f3cc7",
   "metadata": {},
   "outputs": [
    {
     "ename": "SyntaxError",
     "evalue": "non-default argument follows default argument (<ipython-input-31-6e785a4e6891>, line 1)",
     "output_type": "error",
     "traceback": [
      "\u001b[1;36m  File \u001b[1;32m\"<ipython-input-31-6e785a4e6891>\"\u001b[1;36m, line \u001b[1;32m1\u001b[0m\n\u001b[1;33m    def fun7(a=0,b=0,c):\u001b[0m\n\u001b[1;37m             ^\u001b[0m\n\u001b[1;31mSyntaxError\u001b[0m\u001b[1;31m:\u001b[0m non-default argument follows default argument\n"
     ]
    }
   ],
   "source": [
    "def fun7(a=0,b=0,c):\n",
    "    print(a+b+c)"
   ]
  },
  {
   "cell_type": "code",
   "execution_count": 32,
   "id": "57200af5",
   "metadata": {},
   "outputs": [
    {
     "ename": "SyntaxError",
     "evalue": "non-default argument follows default argument (<ipython-input-32-0c348ef63e0c>, line 1)",
     "output_type": "error",
     "traceback": [
      "\u001b[1;36m  File \u001b[1;32m\"<ipython-input-32-0c348ef63e0c>\"\u001b[1;36m, line \u001b[1;32m1\u001b[0m\n\u001b[1;33m    def fun8(a=0,b,c=0):\u001b[0m\n\u001b[1;37m             ^\u001b[0m\n\u001b[1;31mSyntaxError\u001b[0m\u001b[1;31m:\u001b[0m non-default argument follows default argument\n"
     ]
    }
   ],
   "source": [
    "def fun8(a=0,b,c=0):\n",
    "    print(a+b+c)"
   ]
  },
  {
   "cell_type": "code",
   "execution_count": 14,
   "id": "3e8ec789",
   "metadata": {},
   "outputs": [],
   "source": [
    "def fun3(p,x):\n",
    "    np=p-(p*(x)/100)\n",
    "    print(np)\n",
    "    "
   ]
  },
  {
   "cell_type": "code",
   "execution_count": 15,
   "id": "f56213b0",
   "metadata": {},
   "outputs": [
    {
     "name": "stdout",
     "output_type": "stream",
     "text": [
      "90.0\n"
     ]
    }
   ],
   "source": [
    "fun3(100,10)"
   ]
  },
  {
   "cell_type": "code",
   "execution_count": 17,
   "id": "ae48c877",
   "metadata": {},
   "outputs": [],
   "source": [
    "def fun4(p,x=10):\n",
    "    np=p-(p*(x)/100)\n",
    "    print(np)\n"
   ]
  },
  {
   "cell_type": "code",
   "execution_count": 18,
   "id": "79a5efda",
   "metadata": {},
   "outputs": [
    {
     "name": "stdout",
     "output_type": "stream",
     "text": [
      "900.0\n"
     ]
    }
   ],
   "source": [
    "fun4(1000)"
   ]
  },
  {
   "cell_type": "code",
   "execution_count": 19,
   "id": "d39aac13",
   "metadata": {},
   "outputs": [
    {
     "name": "stdout",
     "output_type": "stream",
     "text": [
      "80.0\n"
     ]
    }
   ],
   "source": [
    "fun4(100,20)"
   ]
  },
  {
   "cell_type": "code",
   "execution_count": 33,
   "id": "825bf7d4",
   "metadata": {},
   "outputs": [],
   "source": [
    "def fun9(*x):\n",
    "    print(sum(x))"
   ]
  },
  {
   "cell_type": "code",
   "execution_count": 34,
   "id": "675a73cb",
   "metadata": {},
   "outputs": [
    {
     "name": "stdout",
     "output_type": "stream",
     "text": [
      "5\n"
     ]
    }
   ],
   "source": [
    "fun9(2,3)"
   ]
  },
  {
   "cell_type": "code",
   "execution_count": 35,
   "id": "a8e7c695",
   "metadata": {},
   "outputs": [],
   "source": [
    "def fun10(*y):\n",
    "    for i in y:\n",
    "        print(i)"
   ]
  },
  {
   "cell_type": "code",
   "execution_count": 36,
   "id": "e046fb4c",
   "metadata": {},
   "outputs": [
    {
     "name": "stdout",
     "output_type": "stream",
     "text": [
      "1\n",
      "2\n"
     ]
    }
   ],
   "source": [
    "fun10(1,2)"
   ]
  },
  {
   "cell_type": "code",
   "execution_count": 38,
   "id": "174e49f3",
   "metadata": {},
   "outputs": [],
   "source": [
    "def greet(*z):\n",
    "    for i in z:\n",
    "        print(\"Hello:\",i)\n",
    "        "
   ]
  },
  {
   "cell_type": "code",
   "execution_count": 39,
   "id": "1d82f28f",
   "metadata": {},
   "outputs": [
    {
     "name": "stdout",
     "output_type": "stream",
     "text": [
      "Hello: adi\n",
      "Hello: sir\n"
     ]
    }
   ],
   "source": [
    "greet(\"adi\",\"sir\")"
   ]
  },
  {
   "cell_type": "code",
   "execution_count": 40,
   "id": "b5ba68ca",
   "metadata": {},
   "outputs": [],
   "source": [
    "l=[11,22,33,44]"
   ]
  },
  {
   "cell_type": "code",
   "execution_count": 41,
   "id": "42632794",
   "metadata": {},
   "outputs": [
    {
     "name": "stdout",
     "output_type": "stream",
     "text": [
      "[11, 22, 33, 44]\n"
     ]
    }
   ],
   "source": [
    "fun10(l)"
   ]
  },
  {
   "cell_type": "code",
   "execution_count": 42,
   "id": "9d6428a5",
   "metadata": {},
   "outputs": [
    {
     "name": "stdout",
     "output_type": "stream",
     "text": [
      "11\n",
      "22\n",
      "33\n",
      "44\n"
     ]
    }
   ],
   "source": [
    "fun10(11, 22, 33, 44)"
   ]
  },
  {
   "cell_type": "code",
   "execution_count": 43,
   "id": "2dba2ce8",
   "metadata": {},
   "outputs": [],
   "source": [
    "def fun11(**x):              #** is nothing but a dictionary form\n",
    "    for i in x.items():\n",
    "        print(i)\n",
    "    "
   ]
  },
  {
   "cell_type": "code",
   "execution_count": 44,
   "id": "26c1efa0",
   "metadata": {},
   "outputs": [
    {
     "name": "stdout",
     "output_type": "stream",
     "text": [
      "('name', 'adi')\n",
      "('course', 'python')\n"
     ]
    }
   ],
   "source": [
    "fun11(name='adi',course='python')"
   ]
  },
  {
   "cell_type": "code",
   "execution_count": 46,
   "id": "03c8b0cd",
   "metadata": {},
   "outputs": [],
   "source": [
    "def fun12(**x):              # \"**'' is nothing but a dictionary form\n",
    "    for i in x.items():\n",
    "        key,value=i        \n",
    "        print(key)\n"
   ]
  },
  {
   "cell_type": "code",
   "execution_count": 47,
   "id": "14f3362d",
   "metadata": {},
   "outputs": [
    {
     "name": "stdout",
     "output_type": "stream",
     "text": [
      "name\n",
      "course\n"
     ]
    }
   ],
   "source": [
    "fun12(name='adi',course='python')"
   ]
  },
  {
   "cell_type": "code",
   "execution_count": 51,
   "id": "b897eddd",
   "metadata": {},
   "outputs": [],
   "source": [
    "def fun13(**x):              # \"**'' is nothing but a dictionary form\n",
    "    for i in x.items():\n",
    "        key,value=i        \n",
    "        print(value)\n"
   ]
  },
  {
   "cell_type": "code",
   "execution_count": 52,
   "id": "355ab0db",
   "metadata": {},
   "outputs": [
    {
     "name": "stdout",
     "output_type": "stream",
     "text": [
      "adi\n",
      "python\n"
     ]
    }
   ],
   "source": [
    "fun13(name='adi',course='python')"
   ]
  },
  {
   "cell_type": "code",
   "execution_count": 53,
   "id": "be5e440e",
   "metadata": {},
   "outputs": [],
   "source": [
    "def fun14(**x):              # \"**'' is nothing but a dictionary form\n",
    "    for i in x.items():\n",
    "        key,value=i        \n",
    "        print(key,\": \",value)\n"
   ]
  },
  {
   "cell_type": "code",
   "execution_count": 54,
   "id": "7053af6d",
   "metadata": {},
   "outputs": [
    {
     "name": "stdout",
     "output_type": "stream",
     "text": [
      "name :  adi\n",
      "course :  python\n"
     ]
    }
   ],
   "source": [
    "fun14(name='adi',course='python')"
   ]
  },
  {
   "cell_type": "code",
   "execution_count": null,
   "id": "a76007f8",
   "metadata": {},
   "outputs": [],
   "source": []
  },
  {
   "cell_type": "code",
   "execution_count": null,
   "id": "d9b6e0f0",
   "metadata": {},
   "outputs": [],
   "source": []
  },
  {
   "cell_type": "code",
   "execution_count": null,
   "id": "235f0ab5",
   "metadata": {},
   "outputs": [],
   "source": []
  },
  {
   "cell_type": "code",
   "execution_count": null,
   "id": "466faa45",
   "metadata": {},
   "outputs": [],
   "source": []
  },
  {
   "cell_type": "code",
   "execution_count": null,
   "id": "cbd63c0a",
   "metadata": {},
   "outputs": [],
   "source": []
  }
 ],
 "metadata": {
  "kernelspec": {
   "display_name": "Python 3",
   "language": "python",
   "name": "python3"
  },
  "language_info": {
   "codemirror_mode": {
    "name": "ipython",
    "version": 3
   },
   "file_extension": ".py",
   "mimetype": "text/x-python",
   "name": "python",
   "nbconvert_exporter": "python",
   "pygments_lexer": "ipython3",
   "version": "3.8.8"
  }
 },
 "nbformat": 4,
 "nbformat_minor": 5
}
