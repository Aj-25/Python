{
 "cells": [
  {
   "cell_type": "markdown",
   "id": "a92b89e7-c80c-4485-af7e-87bbdaafc659",
   "metadata": {},
   "source": [
    "There are two types of functions:-\n",
    "\n",
    "1) Built-in functions\n",
    "   ex- len, max, min, sum\n",
    "   \n",
    "2) User defined functions\n",
    "\n",
    "There are two components for defining function:-\n",
    "using word \"def\" to define the function"
   ]
  },
  {
   "cell_type": "code",
   "execution_count": 6,
   "id": "32eb7bb0-6499-4a6e-a14a-31dcd8dd9141",
   "metadata": {},
   "outputs": [],
   "source": [
    "def greet(x):\n",
    "    print(\"Hello\",x)"
   ]
  },
  {
   "cell_type": "code",
   "execution_count": 3,
   "id": "6e316786-0cee-4dfb-8d6e-e10ff7c63570",
   "metadata": {},
   "outputs": [
    {
     "data": {
      "text/plain": [
       "<function __main__.greet()>"
      ]
     },
     "execution_count": 3,
     "metadata": {},
     "output_type": "execute_result"
    }
   ],
   "source": [
    "greet"
   ]
  },
  {
   "cell_type": "code",
   "execution_count": 4,
   "id": "bdf977ec-c3d6-4b2c-a95c-3a1ccc2b3266",
   "metadata": {},
   "outputs": [
    {
     "name": "stdout",
     "output_type": "stream",
     "text": [
      "Hello\n"
     ]
    }
   ],
   "source": [
    "greet()"
   ]
  },
  {
   "cell_type": "code",
   "execution_count": 7,
   "id": "fbd4c056-8db3-4bf2-9bf5-c6e0b43aa07c",
   "metadata": {},
   "outputs": [
    {
     "name": "stdin",
     "output_type": "stream",
     "text": [
      "Enter your name aryan\n"
     ]
    },
    {
     "name": "stdout",
     "output_type": "stream",
     "text": [
      "Hello aryan\n"
     ]
    }
   ],
   "source": [
    "name=input(\"Enter your name\")\n",
    "greet(name)"
   ]
  },
  {
   "cell_type": "code",
   "execution_count": 13,
   "id": "264d8e41-20b4-47b7-b14a-4bf67a6ef4c6",
   "metadata": {},
   "outputs": [],
   "source": [
    "def facto(n):\n",
    "    fact=1\n",
    "    for i in range(1,n+1):\n",
    "        fact=fact*i\n",
    "    print(fact)            #or return(fact)"
   ]
  },
  {
   "cell_type": "code",
   "execution_count": 14,
   "id": "f5a977bc-7f6a-463c-81ac-77a3e05fad1e",
   "metadata": {},
   "outputs": [
    {
     "name": "stdout",
     "output_type": "stream",
     "text": [
      "120\n"
     ]
    }
   ],
   "source": [
    "facto(5)"
   ]
  },
  {
   "cell_type": "code",
   "execution_count": 15,
   "id": "227223c1-a0fd-43e4-beb5-59c28334175b",
   "metadata": {},
   "outputs": [],
   "source": [
    "def price_cal(a):\n",
    "    total_price=0\n",
    "    for i in range(a):\n",
    "        price=int(input(\"enter price: \"))\n",
    "        total_price+=price\n",
    "    return total_price"
   ]
  },
  {
   "cell_type": "code",
   "execution_count": 16,
   "id": "cedc3d48-8ae9-4d1d-9e62-616d8cb32f00",
   "metadata": {},
   "outputs": [
    {
     "name": "stdin",
     "output_type": "stream",
     "text": [
      "Enter the number of items purchased by you:  4\n",
      "enter price:  34\n",
      "enter price:  23\n",
      "enter price:  55\n",
      "enter price:  67\n"
     ]
    },
    {
     "data": {
      "text/plain": [
       "179"
      ]
     },
     "execution_count": 16,
     "metadata": {},
     "output_type": "execute_result"
    }
   ],
   "source": [
    "NoI=int(input(\"Enter the number of items purchased by you: \"))\n",
    "price_cal(NoI)"
   ]
  },
  {
   "cell_type": "code",
   "execution_count": 17,
   "id": "87a7e454-8a6e-46df-bf41-3b45e5f44ad4",
   "metadata": {},
   "outputs": [],
   "source": [
    "def discount(d):\n",
    "    if(d>=300):\n",
    "        d=d-d*0.2\n",
    "    else:\n",
    "        d=d-d*0.1\n",
    "    return d"
   ]
  },
  {
   "cell_type": "code",
   "execution_count": 18,
   "id": "9a9f960a-cbdd-4f2d-9aa1-00f602fbed20",
   "metadata": {},
   "outputs": [
    {
     "data": {
      "text/plain": [
       "180.0"
      ]
     },
     "execution_count": 18,
     "metadata": {},
     "output_type": "execute_result"
    }
   ],
   "source": [
    "discount(200)"
   ]
  },
  {
   "cell_type": "code",
   "execution_count": 21,
   "id": "50ddef1b-a289-428a-8a6b-a5ef92bb262a",
   "metadata": {},
   "outputs": [],
   "source": [
    "def tax(n):\n",
    "    n=n+n*0.18\n",
    "    return n"
   ]
  },
  {
   "cell_type": "code",
   "execution_count": 22,
   "id": "508fb7ed-cefe-4954-b5e8-0a0678bf0ffa",
   "metadata": {},
   "outputs": [
    {
     "data": {
      "text/plain": [
       "118.0"
      ]
     },
     "execution_count": 22,
     "metadata": {},
     "output_type": "execute_result"
    }
   ],
   "source": [
    "tax(100)"
   ]
  },
  {
   "cell_type": "code",
   "execution_count": 24,
   "id": "2c8ffc30-a427-4814-a5c9-a7c6c510191a",
   "metadata": {},
   "outputs": [
    {
     "name": "stdin",
     "output_type": "stream",
     "text": [
      "Enter number of items purchased by you:  4\n",
      "enter price:  100\n",
      "enter price:  200\n",
      "enter price:  300\n",
      "enter price:  50\n"
     ]
    },
    {
     "name": "stdout",
     "output_type": "stream",
     "text": [
      "Your Total price: 650\n",
      "your discounted amount: 520.0\n",
      "your net payable amount: 613.6\n",
      "your total saving is: 130.0\n"
     ]
    }
   ],
   "source": [
    "NoI=int(input(\"Enter number of items purchased by you: \"))\n",
    "tp=price_cal(NoI)\n",
    "dp=discount(tp)\n",
    "print(\"Your Total price:\",tp)\n",
    "print(\"your discounted amount:\",dp)\n",
    "print(\"your net payable amount:\",tax(dp))\n",
    "print(\"your total saving is:\",tp-dp)"
   ]
  },
  {
   "cell_type": "code",
   "execution_count": 25,
   "id": "7c6cb8ba-e2dc-4a44-b56c-cedcdd6a86fd",
   "metadata": {},
   "outputs": [
    {
     "name": "stdin",
     "output_type": "stream",
     "text": [
      "enter number of items purchased by you 4\n",
      "enter price:  200\n",
      "enter price:  100\n",
      "enter price:  300\n",
      "enter price:  50\n"
     ]
    },
    {
     "name": "stdout",
     "output_type": "stream",
     "text": [
      "your net payable amount: 613.6\n"
     ]
    }
   ],
   "source": [
    "print(\"your net payable amount:\",tax(discount(price_cal(int(input(\"enter number of items purchased by you\"))))))"
   ]
  },
  {
   "cell_type": "code",
   "execution_count": 8,
   "id": "5486b7bd-679c-417c-87b0-552381a4cdde",
   "metadata": {},
   "outputs": [],
   "source": [
    "def fun1():\n",
    "    return \"Hello\"\n",
    "    return \"bye\""
   ]
  },
  {
   "cell_type": "code",
   "execution_count": 9,
   "id": "dc7c914a-e795-45a6-b324-098202f5e6f3",
   "metadata": {},
   "outputs": [
    {
     "data": {
      "text/plain": [
       "'Hello'"
      ]
     },
     "execution_count": 9,
     "metadata": {},
     "output_type": "execute_result"
    }
   ],
   "source": [
    "fun1()"
   ]
  },
  {
   "cell_type": "code",
   "execution_count": 10,
   "id": "239e75b9-0d76-427d-b390-3df42e67695b",
   "metadata": {},
   "outputs": [
    {
     "data": {
      "text/plain": [
       "6"
      ]
     },
     "execution_count": 10,
     "metadata": {},
     "output_type": "execute_result"
    }
   ],
   "source": [
    "len([11,12,23,22,24,21])"
   ]
  },
  {
   "cell_type": "code",
   "execution_count": 11,
   "id": "664c7a79-54f6-4de7-a226-90f3df392072",
   "metadata": {},
   "outputs": [],
   "source": [
    "def length(x):                  #making a function for calculating length of a list/set/tuple\n",
    "    c=0\n",
    "    for i in x:\n",
    "        c=c+1         #or c+=1\n",
    "    return c\n",
    "    print(x)        #print will not show because return has been taken and print is written after \"return\""
   ]
  },
  {
   "cell_type": "code",
   "execution_count": 12,
   "id": "5accddee-ee23-4dc8-bc05-10a03152b3f5",
   "metadata": {},
   "outputs": [
    {
     "data": {
      "text/plain": [
       "5"
      ]
     },
     "execution_count": 12,
     "metadata": {},
     "output_type": "execute_result"
    }
   ],
   "source": [
    "length(\"aryan\")"
   ]
  },
  {
   "cell_type": "code",
   "execution_count": 13,
   "id": "57a27b82-63f8-477f-81c7-2f211dd6d8cb",
   "metadata": {},
   "outputs": [
    {
     "data": {
      "text/plain": [
       "5"
      ]
     },
     "execution_count": 13,
     "metadata": {},
     "output_type": "execute_result"
    }
   ],
   "source": [
    "length([1,2,3,4,5])"
   ]
  },
  {
   "cell_type": "code",
   "execution_count": 15,
   "id": "a20d55db-8774-4690-b955-896a09f94315",
   "metadata": {},
   "outputs": [
    {
     "data": {
      "text/plain": [
       "4"
      ]
     },
     "execution_count": 15,
     "metadata": {},
     "output_type": "execute_result"
    }
   ],
   "source": [
    "length((11,12,13,14))"
   ]
  },
  {
   "cell_type": "code",
   "execution_count": 28,
   "id": "99f93ef5-fa64-4a36-90a7-c20de591014e",
   "metadata": {},
   "outputs": [],
   "source": [
    "def search(x,y):\n",
    "    '''this function will return the index od item in iterable'''\n",
    "    c=0\n",
    "    loc=-1\n",
    "    for i in x:\n",
    "        if(i==y):\n",
    "            loc=c\n",
    "            break\n",
    "        c+=1\n",
    "    return loc"
   ]
  },
  {
   "cell_type": "code",
   "execution_count": 29,
   "id": "eee01fdf-f1e6-4f03-9178-bbeeb23208aa",
   "metadata": {},
   "outputs": [
    {
     "data": {
      "text/plain": [
       "4"
      ]
     },
     "execution_count": 29,
     "metadata": {},
     "output_type": "execute_result"
    }
   ],
   "source": [
    "search([11,23,22,34,45,44],45)"
   ]
  },
  {
   "cell_type": "code",
   "execution_count": 32,
   "id": "4861baa3-1ebf-4da0-a3a7-b010fc8c1571",
   "metadata": {},
   "outputs": [],
   "source": [
    "def search2(x,y):\n",
    "    c=0\n",
    "    loc=[]\n",
    "    s=0\n",
    "    for i in x:\n",
    "        if(i==y):\n",
    "            loc.append(c)\n",
    "            s=1\n",
    "        c+=1\n",
    "    if(s==0):\n",
    "        return \"Not found\"\n",
    "    else:\n",
    "        return loc"
   ]
  },
  {
   "cell_type": "code",
   "execution_count": 34,
   "id": "7cdcc88a-3d97-4bf5-9d23-e946f6782bc8",
   "metadata": {},
   "outputs": [
    {
     "data": {
      "text/plain": [
       "[2]"
      ]
     },
     "execution_count": 34,
     "metadata": {},
     "output_type": "execute_result"
    }
   ],
   "source": [
    "search2([1,2,34,5,67,8],34)"
   ]
  },
  {
   "cell_type": "code",
   "execution_count": 37,
   "id": "eda6f56e-35b8-4c0f-895a-582eeea10386",
   "metadata": {},
   "outputs": [],
   "source": [
    "def search1(x):\n",
    "    '''this function will return the index of entered item in the iterable x'''\n",
    "    print(x)\n",
    "    y=int(input(\"enter value to search\"))\n",
    "    c=0\n",
    "    loc=-1\n",
    "    for i in x:\n",
    "        if(i==y):\n",
    "            loc=c\n",
    "            break\n",
    "        c+=1\n",
    "    return loc"
   ]
  },
  {
   "cell_type": "code",
   "execution_count": 39,
   "id": "a9b3de46-dd32-4d36-b330-b986c75e19a7",
   "metadata": {},
   "outputs": [
    {
     "name": "stdout",
     "output_type": "stream",
     "text": [
      "[12, 21, 23, 24, 20]\n"
     ]
    },
    {
     "name": "stdin",
     "output_type": "stream",
     "text": [
      "enter value to search 20\n"
     ]
    },
    {
     "data": {
      "text/plain": [
       "4"
      ]
     },
     "execution_count": 39,
     "metadata": {},
     "output_type": "execute_result"
    }
   ],
   "source": [
    "search1([12,21,23,24,20])"
   ]
  },
  {
   "cell_type": "code",
   "execution_count": 40,
   "id": "9a1ca063-232c-4e0d-8510-27a10496aafe",
   "metadata": {},
   "outputs": [
    {
     "name": "stdout",
     "output_type": "stream",
     "text": [
      "[12, 11, 23, 20, 24]\n"
     ]
    },
    {
     "name": "stdin",
     "output_type": "stream",
     "text": [
      "enter value to search 26\n"
     ]
    },
    {
     "data": {
      "text/plain": [
       "-1"
      ]
     },
     "execution_count": 40,
     "metadata": {},
     "output_type": "execute_result"
    }
   ],
   "source": [
    "search1([12,11,23,20,24])"
   ]
  },
  {
   "cell_type": "markdown",
   "id": "c284bad6-1c6d-4f04-bcab-638df83cd762",
   "metadata": {},
   "source": [
    "Q. \n",
    "1) factorial\n",
    "2) number negative or positive\n",
    "3) number is even or odd\n",
    "4) number is prime or not\n",
    "5) number palindrom or not\n",
    "6) number is armstrong or not\n",
    "7) generate the n prime numbers\n",
    "8) generate n even numbers\n",
    "9) generate n odd numbers\n",
    "10) find the HCF between two numbers\n",
    "11) implement sum function\n",
    "12) implement max function\n",
    "13) implement min function\n",
    "14) implement power function \n",
    "15) find the square root of any number\n",
    "16) find that the entered number is a sqaure of any number or not\n",
    "17) find that the entered number is a cube of any number or not\n",
    "18) extract the all numbers from list those are sqaure of any number\n",
    "19) extract the all numbers from list those are cube of any number\n",
    "20) write the function to sort the list--bubele sort\n",
    "21) if number of start is entered through by key board create the function to print the triangle from the given start\n",
    "22) create the function to findout the nTh element of AP series  (use list to store the values)\n",
    "23) create the function to findout the nTh element of the given GP series\n",
    "24) create the function to convert the string from upper to lower\n",
    "25) create the function to convert the string from lower to upper\n",
    "26) create the function to encrypt the string by given key.\n",
    "example: input: abcd\n",
    "         input: key=2\n",
    "         output: cfeg\n",
    "27) create the function to find out the total number of vowel, consonant, space and digit in string\n",
    "28) create the function to reverse the number\n",
    "29) create the function to reverse the string\n",
    "30) create the function for nelson number\n",
    "31) create the function to check whether the number is perfect or not\n",
    "**32) WAP to rotate the list by given position\n",
    "     example: given list=[1,2,3,4,5]\n",
    "     rotate by 3\n",
    "     [3,4,5,1,2]\n",
    "33) WAP of 2-sum problem and 3-sum problem\n",
    "    example: \n",
    "    1,0 \n",
    "    -1,2\n",
    "    -2,\n",
    "34) stock market\n",
    "    price of 6 days: [100,105,90,180,120]-- find the purchasing rate and selling rate also suggest that it should be buy pack       or buy sell and show the profit\n",
    "35) temperature of a city of 7 days of 4 different time i.e morning, afternoon, evening and night -- find out which day city       has lowest teperature and which day has highest temperature"
   ]
  },
  {
   "cell_type": "code",
   "execution_count": null,
   "id": "0ab58375",
   "metadata": {},
   "outputs": [],
   "source": []
  },
  {
   "cell_type": "code",
   "execution_count": null,
   "id": "1d48abf5",
   "metadata": {},
   "outputs": [],
   "source": []
  },
  {
   "cell_type": "code",
   "execution_count": null,
   "id": "3d641e27",
   "metadata": {},
   "outputs": [],
   "source": []
  },
  {
   "cell_type": "code",
   "execution_count": null,
   "id": "fc5b2b70",
   "metadata": {},
   "outputs": [],
   "source": []
  }
 ],
 "metadata": {
  "kernelspec": {
   "display_name": "Python 3",
   "language": "python",
   "name": "python3"
  },
  "language_info": {
   "codemirror_mode": {
    "name": "ipython",
    "version": 3
   },
   "file_extension": ".py",
   "mimetype": "text/x-python",
   "name": "python",
   "nbconvert_exporter": "python",
   "pygments_lexer": "ipython3",
   "version": "3.8.8"
  }
 },
 "nbformat": 4,
 "nbformat_minor": 5
}
