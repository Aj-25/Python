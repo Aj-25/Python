{
 "cells": [
  {
   "cell_type": "code",
   "execution_count": 6,
   "id": "202da11f",
   "metadata": {},
   "outputs": [],
   "source": [
    "s={\n",
    "    \"s1\":\n",
    "    {\"roll\":101,\n",
    "     \"name\":'adi',\n",
    "     'address':'indore'\n",
    "    },\n",
    "    \"s2\":\n",
    "    {\"roll\":102,\n",
    "     \"name\":'ajay',\n",
    "     'address':'ujjain'\n",
    "    }\n",
    "}"
   ]
  },
  {
   "cell_type": "code",
   "execution_count": 12,
   "id": "aa3b8a20",
   "metadata": {},
   "outputs": [
    {
     "name": "stdout",
     "output_type": "stream",
     "text": [
      "s1\n",
      "roll : 101\n",
      "name : adi\n",
      "address : indore\n",
      "s2\n",
      "roll : 102\n",
      "name : ajay\n",
      "address : ujjain\n"
     ]
    }
   ],
   "source": [
    "for i,j in s.items():\n",
    "    print(i)\n",
    "    for k,v in j.items() :\n",
    "        print(k,\":\",v)"
   ]
  },
  {
   "cell_type": "code",
   "execution_count": 22,
   "id": "8a3a8151",
   "metadata": {},
   "outputs": [],
   "source": [
    "m=open('assign.txt',\"a\")\n",
    "for i,j in s.items():\n",
    "    m.write(i)\n",
    "    m.write(\"\\n\")\n",
    "    for k,v in j.items():\n",
    "        k=str(k)\n",
    "        v=str(v)\n",
    "        a=k+\" \"+v\n",
    "        m.write(a)\n",
    "        m.write(\"\\n\")"
   ]
  },
  {
   "cell_type": "code",
   "execution_count": 23,
   "id": "d42a18a5",
   "metadata": {},
   "outputs": [
    {
     "data": {
      "text/plain": [
       "[2, 3, 4]"
      ]
     },
     "execution_count": 23,
     "metadata": {},
     "output_type": "execute_result"
    }
   ],
   "source": [
    "l=[2,8,3,9,4,14,15,16,17]\n",
    "a=[]\n",
    "for i in l:\n",
    "    if(i**2 in l):\n",
    "        a.append(i)\n",
    "a        "
   ]
  },
  {
   "cell_type": "code",
   "execution_count": 120,
   "id": "270f358a",
   "metadata": {},
   "outputs": [
    {
     "data": {
      "text/plain": [
       "[10, 30, 10, 50]"
      ]
     },
     "execution_count": 120,
     "metadata": {},
     "output_type": "execute_result"
    }
   ],
   "source": [
    "t=[10,10,10,20,30,30,30,10,10,20,50,50]\n",
    "s=[]\n",
    "for i in range(len(t)-1):\n",
    "    if (t[i]==t[i+1]):\n",
    "            if(t[i-1]==t[i]):\n",
    "                continue\n",
    "            else:\n",
    "                s.append(t[i])\n",
    "            \n",
    "s"
   ]
  },
  {
   "cell_type": "code",
   "execution_count": 93,
   "id": "eec003c6",
   "metadata": {},
   "outputs": [
    {
     "data": {
      "text/plain": [
       "10"
      ]
     },
     "execution_count": 93,
     "metadata": {},
     "output_type": "execute_result"
    }
   ],
   "source": [
    "len(t)"
   ]
  },
  {
   "cell_type": "code",
   "execution_count": null,
   "id": "31193310",
   "metadata": {},
   "outputs": [],
   "source": [
    "m=[1,2,3,4,5,6,7,8,9]\n",
    "output:- 8\n"
   ]
  },
  {
   "cell_type": "code",
   "execution_count": 98,
   "id": "ebc95b51",
   "metadata": {},
   "outputs": [
    {
     "name": "stdout",
     "output_type": "stream",
     "text": [
      "the sum of prime no to 100 :  1060\n"
     ]
    }
   ],
   "source": [
    "l=0\n",
    "for x in range (1, 101):\n",
    "    count = 0\n",
    "    for i in range(2, (x//2 + 1)):\n",
    "        if(x % i == 0):\n",
    "            count = count + 1\n",
    "            break\n",
    "\n",
    "    if (count == 0 and x != 1):\n",
    "        l=l+x\n",
    "print(\"the sum of prime no to 100 : \",l)        "
   ]
  },
  {
   "cell_type": "code",
   "execution_count": 112,
   "id": "bc927026",
   "metadata": {},
   "outputs": [
    {
     "name": "stdout",
     "output_type": "stream",
     "text": [
      "3\n",
      "3\n",
      "the sum of n no. :  -1.5\n"
     ]
    }
   ],
   "source": [
    "n=int(input())\n",
    "x=int(input())\n",
    "a=0\n",
    "s=0\n",
    "for i in range(1,n+1,+2):\n",
    "    f=1\n",
    "    for j in range(1,i+1):\n",
    "        f=f*j\n",
    "    a=a+1\n",
    "    if a%2==0:\n",
    "        s-=(x**i)/f\n",
    "    else:\n",
    "        s+=(x**i)/f\n",
    "print(\"the sum of n no. : \",s)"
   ]
  },
  {
   "cell_type": "code",
   "execution_count": 29,
   "id": "f3af23e9",
   "metadata": {},
   "outputs": [
    {
     "name": "stdout",
     "output_type": "stream",
     "text": [
      "           Welcome Aditya Super Market             \n",
      "\n",
      "              Har maal 100 rupee\n",
      "\n",
      "No of items want to purchase : 2\n",
      "item no :  1\n",
      "Item name : kkk\n",
      "No of Quantity : 10\n",
      "item no :  2\n",
      "Item name : lll\n",
      "No of Quantity : 15\n",
      "\n",
      "item\tqty\ttotal\tdiscount%\tdis-amnt\tnetamount \n",
      "kkk \t 10 \t 1000 \t 10% \t\t 100.0 \t\t 900.0\n",
      "lll \t 15 \t 1500 \t 15% \t\t 225.0 \t\t 1275.0\n",
      "\n",
      "Dhyanwad aane ke aauro aajo\n"
     ]
    }
   ],
   "source": [
    "print(\"           Welcome Aditya Super Market             \")\n",
    "print(\"\\n              Har maal 100 rupee\\n\")\n",
    "m={}\n",
    "n=int(input(\"No of items want to purchase : \"))\n",
    "for i in range(1,n+1):\n",
    "    print(\"item no : \",i)\n",
    "    ite=input(\"Item name : \")\n",
    "    qty=int(input(\"No of Quantity : \"))\n",
    "    m.update({ite:qty})\n",
    "\n",
    "print(\"\\nitem\\tqty\\ttotal\\tdiscount%\\tdis-amnt\\tnetamount \")\n",
    "for x,qty in m.items():\n",
    "    amt=qty*100\n",
    "    if 1500>amt>=1000:\n",
    "        d=\"10%\"kfgkj\n",
    "        dis=(amt*.10)\n",
    "        tamt=amt-dis\n",
    "    elif 2000>amt>=1500:\n",
    "        d=\"15%\"\n",
    "        dis=(amt*0.15)\n",
    "        tamt=amt-dis\n",
    "    elif amt>=2000:\n",
    "        d=\"20%\"\n",
    "        dis=(amt*0.20)\n",
    "        tamt=amt-dis\n",
    "    else:\n",
    "        d=\"0%\"\n",
    "        tamt=amt\n",
    "    print(x,\"\\t\",qty,\"\\t\",amt,\"\\t\",d,\"\\t\\t\",dis,\"\\t\\t\",tamt)\n",
    "\n",
    "\n",
    "print(\"\\nDhyanwad-- aauro aajo\")\n",
    "    "
   ]
  },
  {
   "cell_type": "code",
   "execution_count": 34,
   "id": "da5ec41d",
   "metadata": {},
   "outputs": [],
   "source": [
    "l=[1,2,3]\n",
    "l.append([1,2])\n",
    "l.extend([7,8,9])\n"
   ]
  },
  {
   "cell_type": "code",
   "execution_count": 35,
   "id": "b3c4e9ad",
   "metadata": {},
   "outputs": [
    {
     "data": {
      "text/plain": [
       "[1, 2, 3, [1, 2], 7, 8, 9]"
      ]
     },
     "execution_count": 35,
     "metadata": {},
     "output_type": "execute_result"
    }
   ],
   "source": [
    "l"
   ]
  },
  {
   "cell_type": "code",
   "execution_count": 2,
   "id": "c48e8180",
   "metadata": {},
   "outputs": [
    {
     "data": {
      "text/plain": [
       "[1, 2, 3, 4, 5, 1, 2, 3, 4, 5]"
      ]
     },
     "execution_count": 2,
     "metadata": {},
     "output_type": "execute_result"
    }
   ],
   "source": [
    "l=[1,2,3,4,5]\n",
    "for i in l:\n",
    "    l.append(i)\n",
    "    if i==5:\n",
    "        break\n",
    "l"
   ]
  },
  {
   "cell_type": "code",
   "execution_count": 48,
   "id": "75c19c26",
   "metadata": {},
   "outputs": [
    {
     "data": {
      "text/plain": [
       "[1, 2, 3, 69]"
      ]
     },
     "execution_count": 48,
     "metadata": {},
     "output_type": "execute_result"
    }
   ],
   "source": [
    "l=[1,2,3]\n",
    "l.append(69)\n",
    "l\n"
   ]
  },
  {
   "cell_type": "code",
   "execution_count": 49,
   "id": "c071d2f3",
   "metadata": {},
   "outputs": [
    {
     "data": {
      "text/plain": [
       "4"
      ]
     },
     "execution_count": 49,
     "metadata": {},
     "output_type": "execute_result"
    }
   ],
   "source": [
    "len(l)"
   ]
  },
  {
   "cell_type": "code",
   "execution_count": 50,
   "id": "892a506a",
   "metadata": {},
   "outputs": [
    {
     "data": {
      "text/plain": [
       "75"
      ]
     },
     "execution_count": 50,
     "metadata": {},
     "output_type": "execute_result"
    }
   ],
   "source": [
    "sum(l)"
   ]
  },
  {
   "cell_type": "code",
   "execution_count": null,
   "id": "aa894a31",
   "metadata": {},
   "outputs": [],
   "source": []
  }
 ],
 "metadata": {
  "kernelspec": {
   "display_name": "Python 3",
   "language": "python",
   "name": "python3"
  },
  "language_info": {
   "codemirror_mode": {
    "name": "ipython",
    "version": 3
   },
   "file_extension": ".py",
   "mimetype": "text/x-python",
   "name": "python",
   "nbconvert_exporter": "python",
   "pygments_lexer": "ipython3",
   "version": "3.8.8"
  }
 },
 "nbformat": 4,
 "nbformat_minor": 5
}
