{
 "cells": [
  {
   "cell_type": "code",
   "execution_count": null,
   "id": "5569ba4e",
   "metadata": {},
   "outputs": [],
   "source": []
  },
  {
   "cell_type": "code",
   "execution_count": 1,
   "id": "24afe628",
   "metadata": {},
   "outputs": [
    {
     "name": "stdout",
     "output_type": "stream",
     "text": [
      "Nobody\n",
      "Object Created Successfully\n",
      "Aditya\n",
      "Object Created Successfully\n"
     ]
    }
   ],
   "source": [
    "class demo:\n",
    "    def __init__(self,n=\"Nobody\"):\n",
    "        self.name=n\n",
    "        print(self.name)\n",
    "        print(\"Object Created Successfully\")\n",
    "d1=demo()\n",
    "d2=demo(\"Aditya\")"
   ]
  },
  {
   "cell_type": "code",
   "execution_count": 2,
   "id": "15a2eb59",
   "metadata": {},
   "outputs": [
    {
     "name": "stdout",
     "output_type": "stream",
     "text": [
      "Enter the Name : Aditya\n",
      "Aditya\n",
      "Object Created Successfully\n",
      "Enter the Name : Aryan\n",
      "Aryan\n",
      "Object Created Successfully\n"
     ]
    }
   ],
   "source": [
    "class demo:\n",
    "    def __init__(self):\n",
    "        self.name=input(\"Enter the Name : \")\n",
    "        print(self.name)\n",
    "        print(\"Object Created Successfully\")\n",
    "d1=demo()\n",
    "d2=demo()"
   ]
  },
  {
   "cell_type": "code",
   "execution_count": 3,
   "id": "2c07b097",
   "metadata": {},
   "outputs": [],
   "source": [
    "class demo1:\n",
    "    def __init__(self,n=\"Nobody\",a=\"home\"):\n",
    "        self.name=n\n",
    "        self.add=a\n",
    "        print(\"Object Created Successfully\")\n",
    "    def get(self):\n",
    "        self.name=input()\n",
    "        self.add=input()\n",
    "    def show(self):\n",
    "        print(f\"My Name is {self.name} and I belongs to {self.add}\")\n"
   ]
  },
  {
   "cell_type": "code",
   "execution_count": 4,
   "id": "5292e4f2",
   "metadata": {},
   "outputs": [
    {
     "name": "stdout",
     "output_type": "stream",
     "text": [
      "Object Created Successfully\n",
      "Object Created Successfully\n"
     ]
    }
   ],
   "source": [
    "d1=demo1()    # Default name= Nobody and address= Home\n",
    "d2=demo1(\"Aditya\",\"Indore\")"
   ]
  },
  {
   "cell_type": "code",
   "execution_count": 6,
   "id": "f65cd07e",
   "metadata": {},
   "outputs": [
    {
     "name": "stdout",
     "output_type": "stream",
     "text": [
      "My Name is Nobody and I belongs to home\n",
      "My Name is Aditya and I belongs to Indore\n"
     ]
    }
   ],
   "source": [
    "d1.show()\n",
    "d2.show()"
   ]
  },
  {
   "cell_type": "code",
   "execution_count": 7,
   "id": "08ded37e",
   "metadata": {},
   "outputs": [
    {
     "name": "stdout",
     "output_type": "stream",
     "text": [
      "Aditya\n",
      "Indore\n",
      "My Name is Aditya and I belongs to Indore\n"
     ]
    }
   ],
   "source": [
    "d1.get()\n",
    "d1.show()"
   ]
  },
  {
   "cell_type": "code",
   "execution_count": 8,
   "id": "b880cb79",
   "metadata": {},
   "outputs": [
    {
     "ename": "AttributeError",
     "evalue": "'demo2' object has no attribute 'name'",
     "output_type": "error",
     "traceback": [
      "\u001b[1;31m---------------------------------------------------------------------------\u001b[0m",
      "\u001b[1;31mAttributeError\u001b[0m                            Traceback (most recent call last)",
      "\u001b[1;32m<ipython-input-8-8ec5d01e8562>\u001b[0m in \u001b[0;36m<module>\u001b[1;34m\u001b[0m\n\u001b[0;32m      6\u001b[0m         \u001b[0mprint\u001b[0m\u001b[1;33m(\u001b[0m\u001b[1;34mf\"My Name is {self.name} and I belongs to {self.add}\"\u001b[0m\u001b[1;33m)\u001b[0m\u001b[1;33m\u001b[0m\u001b[1;33m\u001b[0m\u001b[0m\n\u001b[0;32m      7\u001b[0m \u001b[0md3\u001b[0m\u001b[1;33m=\u001b[0m\u001b[0mdemo2\u001b[0m\u001b[1;33m(\u001b[0m\u001b[1;33m)\u001b[0m\u001b[1;33m\u001b[0m\u001b[1;33m\u001b[0m\u001b[0m\n\u001b[1;32m----> 8\u001b[1;33m \u001b[0md3\u001b[0m\u001b[1;33m.\u001b[0m\u001b[0mshow\u001b[0m\u001b[1;33m(\u001b[0m\u001b[1;33m)\u001b[0m\u001b[1;33m\u001b[0m\u001b[1;33m\u001b[0m\u001b[0m\n\u001b[0m",
      "\u001b[1;32m<ipython-input-8-8ec5d01e8562>\u001b[0m in \u001b[0;36mshow\u001b[1;34m(self)\u001b[0m\n\u001b[0;32m      4\u001b[0m         \u001b[0mself\u001b[0m\u001b[1;33m.\u001b[0m\u001b[0madd\u001b[0m\u001b[1;33m=\u001b[0m\u001b[0minput\u001b[0m\u001b[1;33m(\u001b[0m\u001b[1;33m)\u001b[0m\u001b[1;33m\u001b[0m\u001b[1;33m\u001b[0m\u001b[0m\n\u001b[0;32m      5\u001b[0m     \u001b[1;32mdef\u001b[0m \u001b[0mshow\u001b[0m\u001b[1;33m(\u001b[0m\u001b[0mself\u001b[0m\u001b[1;33m)\u001b[0m\u001b[1;33m:\u001b[0m\u001b[1;33m\u001b[0m\u001b[1;33m\u001b[0m\u001b[0m\n\u001b[1;32m----> 6\u001b[1;33m         \u001b[0mprint\u001b[0m\u001b[1;33m(\u001b[0m\u001b[1;34mf\"My Name is {self.name} and I belongs to {self.add}\"\u001b[0m\u001b[1;33m)\u001b[0m\u001b[1;33m\u001b[0m\u001b[1;33m\u001b[0m\u001b[0m\n\u001b[0m\u001b[0;32m      7\u001b[0m \u001b[0md3\u001b[0m\u001b[1;33m=\u001b[0m\u001b[0mdemo2\u001b[0m\u001b[1;33m(\u001b[0m\u001b[1;33m)\u001b[0m\u001b[1;33m\u001b[0m\u001b[1;33m\u001b[0m\u001b[0m\n\u001b[0;32m      8\u001b[0m \u001b[0md3\u001b[0m\u001b[1;33m.\u001b[0m\u001b[0mshow\u001b[0m\u001b[1;33m(\u001b[0m\u001b[1;33m)\u001b[0m\u001b[1;33m\u001b[0m\u001b[1;33m\u001b[0m\u001b[0m\n",
      "\u001b[1;31mAttributeError\u001b[0m: 'demo2' object has no attribute 'name'"
     ]
    }
   ],
   "source": [
    "class demo2:\n",
    "    def get(self):\n",
    "        self.name=input()\n",
    "        self.add=input()\n",
    "    def show(self):\n",
    "        print(f\"My Name is {self.name} and I belongs to {self.add}\")\n",
    "d3=demo2()\n",
    "d3.show()"
   ]
  },
  {
   "cell_type": "code",
   "execution_count": 15,
   "id": "c62ec35f",
   "metadata": {},
   "outputs": [
    {
     "name": "stdout",
     "output_type": "stream",
     "text": [
      "aj\n",
      "hell\n",
      "My Name is aj and I belongs to hell\n"
     ]
    }
   ],
   "source": [
    "class demo3:\n",
    "    def get(self):\n",
    "        self.name=input()\n",
    "        self.add=input()\n",
    "    def show(self):\n",
    "        print(f\"My Name is {self.name} and I belongs to {self.add}\")\n",
    "    def __str__(self):\n",
    "        return (f\"{self.name}\")\n",
    "d4=demo3()\n",
    "d4.get()\n",
    "d4.show()"
   ]
  },
  {
   "cell_type": "code",
   "execution_count": 17,
   "id": "92dde28c",
   "metadata": {},
   "outputs": [
    {
     "name": "stdout",
     "output_type": "stream",
     "text": [
      "aj\n"
     ]
    }
   ],
   "source": [
    "print(d4)"
   ]
  },
  {
   "cell_type": "code",
   "execution_count": 18,
   "id": "f8365328",
   "metadata": {},
   "outputs": [
    {
     "name": "stdout",
     "output_type": "stream",
     "text": [
      "My Name is aj and I belongs to hell\n"
     ]
    }
   ],
   "source": [
    "d4.show()"
   ]
  },
  {
   "cell_type": "code",
   "execution_count": 19,
   "id": "d9c1a521",
   "metadata": {},
   "outputs": [
    {
     "data": {
      "text/plain": [
       "'hell'"
      ]
     },
     "execution_count": 19,
     "metadata": {},
     "output_type": "execute_result"
    }
   ],
   "source": [
    "d4.add"
   ]
  },
  {
   "cell_type": "code",
   "execution_count": 20,
   "id": "bb4e80d8",
   "metadata": {},
   "outputs": [
    {
     "data": {
      "text/plain": [
       "'aj'"
      ]
     },
     "execution_count": 20,
     "metadata": {},
     "output_type": "execute_result"
    }
   ],
   "source": [
    "d4.name"
   ]
  },
  {
   "cell_type": "code",
   "execution_count": 21,
   "id": "22592158",
   "metadata": {},
   "outputs": [
    {
     "name": "stdout",
     "output_type": "stream",
     "text": [
      "Enter the number of object u wanna create3\n"
     ]
    }
   ],
   "source": [
    "n=int(input(\"Enter the number of object u wanna create\"))\n",
    "ob = [demo2() for x in range(n)]"
   ]
  },
  {
   "cell_type": "code",
   "execution_count": 22,
   "id": "06736e63",
   "metadata": {},
   "outputs": [
    {
     "name": "stdout",
     "output_type": "stream",
     "text": [
      "a\n",
      "1\n",
      "b\n",
      "2\n",
      "c\n",
      "3\n",
      "My Name is a and I belongs to 1\n",
      "My Name is b and I belongs to 2\n",
      "My Name is c and I belongs to 3\n"
     ]
    }
   ],
   "source": [
    "for i in ob:\n",
    "    i.get()\n",
    "for i in ob:\n",
    "    i.show()"
   ]
  },
  {
   "cell_type": "markdown",
   "id": "d1151d8c",
   "metadata": {},
   "source": [
    "Task \n",
    "Create student\n",
    "name\n",
    "marks 5 subject in list\n",
    "course\n",
    "duration\n",
    "\n",
    "Print name \n",
    "course\n",
    "5 subject marks\n",
    "max marks\n",
    "min marks\n",
    "grade\n",
    "calculate percentage\n",
    "grade- I with hons II III IV FAil"
   ]
  },
  {
   "cell_type": "markdown",
   "id": "c05c30d4",
   "metadata": {},
   "source": [
    "Create emp\n",
    "name\n",
    "salary=20000\n",
    "desigination=Trainee\n",
    "job location\n",
    "pass key(Jb ap object bnaoge us time par pass karni hai)\n",
    "\n",
    "change desigination or Profile ke liye Function for pass key and the passkey is 12345.\n",
    "Then for change the designation \"d\" \n",
    "then for change the \"p\"\n",
    "\n",
    "Update salary-- if current salary is less than 20k their is no hike.\n",
    "more than 20k their is an hike --30%.."
   ]
  },
  {
   "cell_type": "markdown",
   "id": "f20c3230",
   "metadata": {},
   "source": [
    "# Encapsulation"
   ]
  },
  {
   "cell_type": "code",
   "execution_count": 1,
   "id": "7151d67f",
   "metadata": {},
   "outputs": [
    {
     "name": "stdout",
     "output_type": "stream",
     "text": [
      "You are hired\n"
     ]
    }
   ],
   "source": [
    "class emp:\n",
    "    def __init__(self):\n",
    "        self.sal=20000\n",
    "        self.profile=\"Trainee\"\n",
    "        print(\"You are hired\")\n",
    "    def get(self):\n",
    "        self.name=input(\"Enter Name of Employee : \")\n",
    "        self.j_loc=input(\"Enter Job location\")\n",
    "    def show(self):\n",
    "        print(\"Name :\",self.name)\n",
    "        print(\"Profile :\",self.profile)\n",
    "        print(\"Job Location :\",self.j_loc)\n",
    "        print(\"Montly Income :\",self.sal)\n",
    "e1=emp()\n",
    "        "
   ]
  },
  {
   "cell_type": "code",
   "execution_count": 2,
   "id": "c881ad12",
   "metadata": {},
   "outputs": [
    {
     "name": "stdout",
     "output_type": "stream",
     "text": [
      "Enter Name of Employee : Aditya\n",
      "Enter Job locationPune\n"
     ]
    }
   ],
   "source": [
    "e1.get()"
   ]
  },
  {
   "cell_type": "code",
   "execution_count": 3,
   "id": "d44649a8",
   "metadata": {},
   "outputs": [
    {
     "name": "stdout",
     "output_type": "stream",
     "text": [
      "Name : Aditya\n",
      "Profile : Trainee\n",
      "Job Location : Pune\n",
      "Montly Income : 20000\n"
     ]
    }
   ],
   "source": [
    "e1.show()"
   ]
  },
  {
   "cell_type": "code",
   "execution_count": 5,
   "id": "e018f68e",
   "metadata": {},
   "outputs": [],
   "source": [
    "e1.profile='Developer'"
   ]
  },
  {
   "cell_type": "code",
   "execution_count": 7,
   "id": "225150c3",
   "metadata": {},
   "outputs": [
    {
     "name": "stdout",
     "output_type": "stream",
     "text": [
      "Name : Aditya\n",
      "Profile : Developer\n",
      "Job Location : Pune\n",
      "Montly Income : 20000\n"
     ]
    }
   ],
   "source": [
    "e1.show()"
   ]
  },
  {
   "cell_type": "code",
   "execution_count": null,
   "id": "dadd9635",
   "metadata": {},
   "outputs": [],
   "source": [
    "User Access Specified"
   ]
  },
  {
   "cell_type": "code",
   "execution_count": 14,
   "id": "5cabef95",
   "metadata": {},
   "outputs": [
    {
     "name": "stdout",
     "output_type": "stream",
     "text": [
      "You are hired\n"
     ]
    }
   ],
   "source": [
    "class emp1:\n",
    "    def __init__(self):\n",
    "        self._sal=20000\n",
    "        self._profile=\"Trainee\"\n",
    "        print(\"You are hired\")\n",
    "    def get(self):\n",
    "        self._name=input(\"Enter Name of Employee : \")\n",
    "        self._j_loc=input(\"Enter Job location\")\n",
    "    def show(self):\n",
    "        print(\"Name :\",self._name)\n",
    "        print(\"Profile :\",self._profile)\n",
    "        print(\"Job Location :\",self._j_loc)\n",
    "        print(\"Montly Income :\",self._sal)\n",
    "    def update(self)\n",
    "e=emp1()"
   ]
  },
  {
   "cell_type": "code",
   "execution_count": 15,
   "id": "98b59e9b",
   "metadata": {},
   "outputs": [
    {
     "name": "stdout",
     "output_type": "stream",
     "text": [
      "Enter Name of Employee : aj\n",
      "Enter Job locationind\n",
      "Name : aj\n",
      "Profile : Trainee\n",
      "Job Location : ind\n",
      "Montly Income : 20000\n"
     ]
    }
   ],
   "source": [
    "e.get()\n",
    "e.show()"
   ]
  },
  {
   "cell_type": "code",
   "execution_count": null,
   "id": "26197e92",
   "metadata": {},
   "outputs": [],
   "source": []
  },
  {
   "cell_type": "code",
   "execution_count": null,
   "id": "ecb05ce0",
   "metadata": {},
   "outputs": [],
   "source": []
  },
  {
   "cell_type": "code",
   "execution_count": null,
   "id": "afc7985a",
   "metadata": {},
   "outputs": [],
   "source": []
  },
  {
   "cell_type": "code",
   "execution_count": null,
   "id": "1a4b63ae",
   "metadata": {},
   "outputs": [],
   "source": []
  },
  {
   "cell_type": "code",
   "execution_count": null,
   "id": "2770f8c4",
   "metadata": {},
   "outputs": [],
   "source": []
  },
  {
   "cell_type": "code",
   "execution_count": null,
   "id": "555dcad0",
   "metadata": {},
   "outputs": [],
   "source": []
  },
  {
   "cell_type": "code",
   "execution_count": null,
   "id": "26704990",
   "metadata": {},
   "outputs": [],
   "source": []
  },
  {
   "cell_type": "code",
   "execution_count": null,
   "id": "b6ca1207",
   "metadata": {},
   "outputs": [],
   "source": []
  },
  {
   "cell_type": "code",
   "execution_count": null,
   "id": "ae13cef4",
   "metadata": {},
   "outputs": [],
   "source": []
  },
  {
   "cell_type": "code",
   "execution_count": null,
   "id": "a82b4f08",
   "metadata": {},
   "outputs": [],
   "source": []
  },
  {
   "cell_type": "code",
   "execution_count": null,
   "id": "4a54536b",
   "metadata": {},
   "outputs": [],
   "source": []
  },
  {
   "cell_type": "code",
   "execution_count": null,
   "id": "48d20230",
   "metadata": {},
   "outputs": [],
   "source": []
  },
  {
   "cell_type": "code",
   "execution_count": null,
   "id": "16c9e4eb",
   "metadata": {},
   "outputs": [],
   "source": []
  },
  {
   "cell_type": "code",
   "execution_count": null,
   "id": "0ec80c5d",
   "metadata": {},
   "outputs": [],
   "source": []
  },
  {
   "cell_type": "code",
   "execution_count": null,
   "id": "4d405fef",
   "metadata": {},
   "outputs": [],
   "source": []
  },
  {
   "cell_type": "code",
   "execution_count": null,
   "id": "5bc5e9da",
   "metadata": {},
   "outputs": [],
   "source": []
  },
  {
   "cell_type": "code",
   "execution_count": null,
   "id": "bfbec311",
   "metadata": {},
   "outputs": [],
   "source": []
  },
  {
   "cell_type": "code",
   "execution_count": null,
   "id": "894757eb",
   "metadata": {},
   "outputs": [],
   "source": []
  },
  {
   "cell_type": "code",
   "execution_count": null,
   "id": "08851090",
   "metadata": {},
   "outputs": [],
   "source": []
  },
  {
   "cell_type": "code",
   "execution_count": null,
   "id": "4f1b2a09",
   "metadata": {},
   "outputs": [],
   "source": []
  },
  {
   "cell_type": "code",
   "execution_count": null,
   "id": "bcfc3849",
   "metadata": {},
   "outputs": [],
   "source": []
  },
  {
   "cell_type": "code",
   "execution_count": null,
   "id": "d0f0acd3",
   "metadata": {},
   "outputs": [],
   "source": []
  },
  {
   "cell_type": "code",
   "execution_count": null,
   "id": "e1e48218",
   "metadata": {},
   "outputs": [],
   "source": []
  },
  {
   "cell_type": "code",
   "execution_count": null,
   "id": "c648cce2",
   "metadata": {},
   "outputs": [],
   "source": []
  },
  {
   "cell_type": "code",
   "execution_count": null,
   "id": "6afa15cb",
   "metadata": {},
   "outputs": [],
   "source": []
  },
  {
   "cell_type": "code",
   "execution_count": null,
   "id": "a285c991",
   "metadata": {},
   "outputs": [],
   "source": [
    "\n",
    "    "
   ]
  }
 ],
 "metadata": {
  "kernelspec": {
   "display_name": "Python 3",
   "language": "python",
   "name": "python3"
  },
  "language_info": {
   "codemirror_mode": {
    "name": "ipython",
    "version": 3
   },
   "file_extension": ".py",
   "mimetype": "text/x-python",
   "name": "python",
   "nbconvert_exporter": "python",
   "pygments_lexer": "ipython3",
   "version": "3.8.8"
  }
 },
 "nbformat": 4,
 "nbformat_minor": 5
}
