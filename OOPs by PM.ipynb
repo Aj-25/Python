{
 "cells": [
  {
   "cell_type": "markdown",
   "id": "c0c7ae41",
   "metadata": {},
   "source": [
    "Object:  object is use for call class property. we can create lots of object based on class.It is cald as Instance"
   ]
  },
  {
   "cell_type": "code",
   "execution_count": 4,
   "id": "50069cb1",
   "metadata": {},
   "outputs": [
    {
     "name": "stdout",
     "output_type": "stream",
     "text": [
      "Swift\n",
      "Duet\n"
     ]
    }
   ],
   "source": [
    "class Car:\n",
    "    name=\"Swift\"\n",
    "class Vehicle:\n",
    "    name='Duet'\n",
    "\n",
    "c=Car()\n",
    "print(c.name)\n",
    "\n",
    "v=Vehicle()\n",
    "print(v.name)"
   ]
  },
  {
   "cell_type": "code",
   "execution_count": 6,
   "id": "0f8cfba9",
   "metadata": {},
   "outputs": [
    {
     "name": "stdout",
     "output_type": "stream",
     "text": [
      "Swift\n",
      "Swift\n"
     ]
    }
   ],
   "source": [
    "class Car:\n",
    "    name=\"Swift\"\n",
    "    def me(self):\n",
    "        print(self.name)\n",
    "c=Car()\n",
    "print(c.name)\n",
    "\n",
    "c.me()"
   ]
  },
  {
   "cell_type": "code",
   "execution_count": 8,
   "id": "37f6989d",
   "metadata": {},
   "outputs": [
    {
     "name": "stdout",
     "output_type": "stream",
     "text": [
      "178\n"
     ]
    }
   ],
   "source": [
    "#Wap to print addition based on class variable and local variable\n",
    "\n",
    "class A:\n",
    "    n=50\n",
    "    m=100\n",
    "    def me(x):\n",
    "        n=10\n",
    "        m=9\n",
    "        print(x.n+n+x.m+m+m)\n",
    "o=A()\n",
    "o.me()"
   ]
  },
  {
   "cell_type": "markdown",
   "id": "8d751e0a",
   "metadata": {},
   "source": [
    "Destructor: \n",
    "            Distructor concept is use for "
   ]
  },
  {
   "cell_type": "markdown",
   "id": "b5075ee3",
   "metadata": {},
   "source": [
    "# Example based on Constructor and Destructor"
   ]
  },
  {
   "cell_type": "code",
   "execution_count": 10,
   "id": "43df6292",
   "metadata": {},
   "outputs": [
    {
     "name": "stdout",
     "output_type": "stream",
     "text": [
      " Enter your nameAdii\n",
      "Thanks for coming  Adii\n",
      " Enter your nameMax\n",
      "Thanks for coming  Max\n",
      "byee byee max\n",
      "byee byee Adii\n",
      "byee byee Max\n"
     ]
    }
   ],
   "source": [
    "class User:\n",
    "    #name= \"\"\n",
    "    def __init__(self):\n",
    "        n=input(\" Enter your name \")\n",
    "        self.name=n\n",
    "        print(\" Thanks for coming \",n)\n",
    "        \n",
    "    def __del__(self):\n",
    "        print(\" byee byee \",self.name)\n",
    "        \n",
    "u1=User()\n",
    "u2=User()\n",
    "\n",
    "del u1\n",
    "del u2\n"
   ]
  },
  {
   "cell_type": "markdown",
   "id": "e6188630",
   "metadata": {},
   "source": [
    "# Encapsulation :\n",
    "\n",
    "Encapsulation means wrapping code in a single unit, this concept is use for apply security from outside world.\n",
    "\n",
    "public:- without underscroe\n",
    "private: two underscore is use\n",
    "protected : one underscore."
   ]
  },
  {
   "cell_type": "code",
   "execution_count": null,
   "id": "22ea055c",
   "metadata": {},
   "outputs": [],
   "source": []
  },
  {
   "cell_type": "code",
   "execution_count": null,
   "id": "78862a39",
   "metadata": {},
   "outputs": [],
   "source": []
  },
  {
   "cell_type": "code",
   "execution_count": null,
   "id": "eb3b13dd",
   "metadata": {},
   "outputs": [],
   "source": []
  },
  {
   "cell_type": "code",
   "execution_count": null,
   "id": "5eddaeb4",
   "metadata": {},
   "outputs": [],
   "source": []
  },
  {
   "cell_type": "code",
   "execution_count": null,
   "id": "92fee591",
   "metadata": {},
   "outputs": [],
   "source": []
  },
  {
   "cell_type": "code",
   "execution_count": null,
   "id": "63d7d2e1",
   "metadata": {},
   "outputs": [],
   "source": []
  },
  {
   "cell_type": "code",
   "execution_count": null,
   "id": "ee3c7b05",
   "metadata": {},
   "outputs": [],
   "source": []
  },
  {
   "cell_type": "code",
   "execution_count": null,
   "id": "4f1a7671",
   "metadata": {},
   "outputs": [],
   "source": []
  },
  {
   "cell_type": "code",
   "execution_count": null,
   "id": "f28e8026",
   "metadata": {},
   "outputs": [],
   "source": []
  },
  {
   "cell_type": "code",
   "execution_count": null,
   "id": "cdb27ef4",
   "metadata": {},
   "outputs": [],
   "source": []
  }
 ],
 "metadata": {
  "kernelspec": {
   "display_name": "Python 3",
   "language": "python",
   "name": "python3"
  },
  "language_info": {
   "codemirror_mode": {
    "name": "ipython",
    "version": 3
   },
   "file_extension": ".py",
   "mimetype": "text/x-python",
   "name": "python",
   "nbconvert_exporter": "python",
   "pygments_lexer": "ipython3",
   "version": "3.8.8"
  }
 },
 "nbformat": 4,
 "nbformat_minor": 5
}
