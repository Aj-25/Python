{
 "cells": [
  {
   "cell_type": "code",
   "execution_count": null,
   "id": "4d613acc",
   "metadata": {},
   "outputs": [],
   "source": []
  },
  {
   "cell_type": "code",
   "execution_count": null,
   "id": "297c334c",
   "metadata": {},
   "outputs": [],
   "source": []
  },
  {
   "cell_type": "code",
   "execution_count": null,
   "id": "97d22a46",
   "metadata": {},
   "outputs": [],
   "source": []
  },
  {
   "cell_type": "code",
   "execution_count": null,
   "id": "a5f0320f",
   "metadata": {},
   "outputs": [],
   "source": []
  },
  {
   "cell_type": "code",
   "execution_count": null,
   "id": "47173c28",
   "metadata": {},
   "outputs": [],
   "source": []
  },
  {
   "cell_type": "code",
   "execution_count": 2,
   "id": "745c9bb1",
   "metadata": {},
   "outputs": [],
   "source": [
    "text=\"The person's phone number is 123-555-6789.\""
   ]
  },
  {
   "cell_type": "code",
   "execution_count": 3,
   "id": "d88c588a",
   "metadata": {},
   "outputs": [
    {
     "data": {
      "text/plain": [
       "True"
      ]
     },
     "execution_count": 3,
     "metadata": {},
     "output_type": "execute_result"
    }
   ],
   "source": [
    "'phone' in text"
   ]
  },
  {
   "cell_type": "code",
   "execution_count": 4,
   "id": "ad930ede",
   "metadata": {},
   "outputs": [
    {
     "data": {
      "text/plain": [
       "False"
      ]
     },
     "execution_count": 4,
     "metadata": {},
     "output_type": "execute_result"
    }
   ],
   "source": [
    "'Phone' in text"
   ]
  },
  {
   "cell_type": "code",
   "execution_count": 5,
   "id": "f8146c98",
   "metadata": {},
   "outputs": [
    {
     "data": {
      "text/plain": [
       "True"
      ]
     },
     "execution_count": 5,
     "metadata": {},
     "output_type": "execute_result"
    }
   ],
   "source": [
    "\"123-555-6789\" in text"
   ]
  },
  {
   "cell_type": "code",
   "execution_count": 6,
   "id": "f85cfdaa",
   "metadata": {},
   "outputs": [
    {
     "data": {
      "text/plain": [
       "13"
      ]
     },
     "execution_count": 6,
     "metadata": {},
     "output_type": "execute_result"
    }
   ],
   "source": [
    "text.index('phone')"
   ]
  },
  {
   "cell_type": "code",
   "execution_count": 7,
   "id": "2cdb2183",
   "metadata": {},
   "outputs": [
    {
     "data": {
      "text/plain": [
       "13"
      ]
     },
     "execution_count": 7,
     "metadata": {},
     "output_type": "execute_result"
    }
   ],
   "source": [
    "text.find('phone')"
   ]
  },
  {
   "cell_type": "code",
   "execution_count": 1,
   "id": "feab4186",
   "metadata": {},
   "outputs": [],
   "source": [
    "import re"
   ]
  },
  {
   "cell_type": "code",
   "execution_count": 9,
   "id": "2ec12594",
   "metadata": {},
   "outputs": [],
   "source": [
    "pattern='phone'"
   ]
  },
  {
   "cell_type": "code",
   "execution_count": 10,
   "id": "871ea4cf",
   "metadata": {},
   "outputs": [
    {
     "name": "stdout",
     "output_type": "stream",
     "text": [
      "<re.Match object; span=(13, 18), match='phone'>\n"
     ]
    }
   ],
   "source": [
    "r1=re.search(pattern,text)\n",
    "print(r1)"
   ]
  },
  {
   "cell_type": "code",
   "execution_count": 11,
   "id": "2117db52",
   "metadata": {},
   "outputs": [],
   "source": [
    "pattern1=\"NOT\""
   ]
  },
  {
   "cell_type": "code",
   "execution_count": 12,
   "id": "434d36ff",
   "metadata": {},
   "outputs": [],
   "source": [
    "r2=re.search(pattern1,text)"
   ]
  },
  {
   "cell_type": "code",
   "execution_count": 13,
   "id": "f48e18d1",
   "metadata": {},
   "outputs": [
    {
     "name": "stdout",
     "output_type": "stream",
     "text": [
      "None\n"
     ]
    }
   ],
   "source": [
    "print(r2)"
   ]
  },
  {
   "cell_type": "code",
   "execution_count": 14,
   "id": "3b0b177e",
   "metadata": {},
   "outputs": [
    {
     "data": {
      "text/plain": [
       "(13, 18)"
      ]
     },
     "execution_count": 14,
     "metadata": {},
     "output_type": "execute_result"
    }
   ],
   "source": [
    "r1.span()"
   ]
  },
  {
   "cell_type": "code",
   "execution_count": 15,
   "id": "baef244f",
   "metadata": {},
   "outputs": [
    {
     "data": {
      "text/plain": [
       "13"
      ]
     },
     "execution_count": 15,
     "metadata": {},
     "output_type": "execute_result"
    }
   ],
   "source": [
    "r1.start()"
   ]
  },
  {
   "cell_type": "code",
   "execution_count": 16,
   "id": "460a0930",
   "metadata": {},
   "outputs": [
    {
     "data": {
      "text/plain": [
       "'phone'"
      ]
     },
     "execution_count": 16,
     "metadata": {},
     "output_type": "execute_result"
    }
   ],
   "source": [
    "r1.group()"
   ]
  },
  {
   "cell_type": "code",
   "execution_count": 17,
   "id": "538f2195",
   "metadata": {},
   "outputs": [],
   "source": [
    "text1=\"my phone is a new phone\""
   ]
  },
  {
   "cell_type": "code",
   "execution_count": 18,
   "id": "6b910b34",
   "metadata": {},
   "outputs": [],
   "source": [
    "match=re.search('phone',text1)"
   ]
  },
  {
   "cell_type": "code",
   "execution_count": 19,
   "id": "532e42be",
   "metadata": {},
   "outputs": [
    {
     "data": {
      "text/plain": [
       "(3, 8)"
      ]
     },
     "execution_count": 19,
     "metadata": {},
     "output_type": "execute_result"
    }
   ],
   "source": [
    "match.span()"
   ]
  },
  {
   "cell_type": "code",
   "execution_count": 20,
   "id": "4c2a8c57",
   "metadata": {},
   "outputs": [],
   "source": [
    "matches=re.findall('phone',text1)"
   ]
  },
  {
   "cell_type": "code",
   "execution_count": 21,
   "id": "c001e9cf",
   "metadata": {},
   "outputs": [
    {
     "data": {
      "text/plain": [
       "['phone', 'phone']"
      ]
     },
     "execution_count": 21,
     "metadata": {},
     "output_type": "execute_result"
    }
   ],
   "source": [
    "matches"
   ]
  },
  {
   "cell_type": "code",
   "execution_count": 22,
   "id": "1b93cf48",
   "metadata": {},
   "outputs": [
    {
     "data": {
      "text/plain": [
       "2"
      ]
     },
     "execution_count": 22,
     "metadata": {},
     "output_type": "execute_result"
    }
   ],
   "source": [
    "len(matches)"
   ]
  },
  {
   "cell_type": "code",
   "execution_count": 35,
   "id": "20fad3a0",
   "metadata": {},
   "outputs": [],
   "source": [
    "res=re.finditer('phone',text1)"
   ]
  },
  {
   "cell_type": "code",
   "execution_count": 30,
   "id": "0de20ee6",
   "metadata": {},
   "outputs": [
    {
     "data": {
      "text/plain": [
       "<re.Match object; span=(3, 8), match='phone'>"
      ]
     },
     "execution_count": 30,
     "metadata": {},
     "output_type": "execute_result"
    }
   ],
   "source": [
    "next(res)"
   ]
  },
  {
   "cell_type": "code",
   "execution_count": 31,
   "id": "efb540e2",
   "metadata": {},
   "outputs": [
    {
     "data": {
      "text/plain": [
       "<re.Match object; span=(18, 23), match='phone'>"
      ]
     },
     "execution_count": 31,
     "metadata": {},
     "output_type": "execute_result"
    }
   ],
   "source": [
    "next(res)"
   ]
  },
  {
   "cell_type": "code",
   "execution_count": 32,
   "id": "80a5dea6",
   "metadata": {},
   "outputs": [
    {
     "data": {
      "text/plain": [
       "<callable_iterator at 0x18b9dd171c0>"
      ]
     },
     "execution_count": 32,
     "metadata": {},
     "output_type": "execute_result"
    }
   ],
   "source": [
    "res"
   ]
  },
  {
   "cell_type": "code",
   "execution_count": 36,
   "id": "f361671e",
   "metadata": {},
   "outputs": [
    {
     "name": "stdout",
     "output_type": "stream",
     "text": [
      "(3, 8)\n",
      "(18, 23)\n"
     ]
    }
   ],
   "source": [
    "for match in res:\n",
    "    print(match.span())"
   ]
  },
  {
   "cell_type": "code",
   "execution_count": 37,
   "id": "f288a151",
   "metadata": {},
   "outputs": [
    {
     "name": "stdout",
     "output_type": "stream",
     "text": [
      "(3, 8)\n",
      "(18, 23)\n"
     ]
    }
   ],
   "source": [
    "for match in re.finditer('phone',text1):\n",
    "    print(match.span())"
   ]
  },
  {
   "cell_type": "code",
   "execution_count": 41,
   "id": "99925385",
   "metadata": {},
   "outputs": [],
   "source": [
    "text2=\"My telephone 7389808584 number is 731-224-6877\""
   ]
  },
  {
   "cell_type": "code",
   "execution_count": 42,
   "id": "169f4d1d",
   "metadata": {},
   "outputs": [],
   "source": [
    "phone=re.search(r'\\d\\d\\d-\\d\\d\\d-\\d\\d\\d\\d',text2)"
   ]
  },
  {
   "cell_type": "code",
   "execution_count": 43,
   "id": "b3952447",
   "metadata": {},
   "outputs": [
    {
     "data": {
      "text/plain": [
       "<re.Match object; span=(34, 46), match='731-224-6877'>"
      ]
     },
     "execution_count": 43,
     "metadata": {},
     "output_type": "execute_result"
    }
   ],
   "source": [
    "phone"
   ]
  },
  {
   "cell_type": "code",
   "execution_count": 44,
   "id": "1f05aa31",
   "metadata": {},
   "outputs": [
    {
     "data": {
      "text/plain": [
       "(34, 46)"
      ]
     },
     "execution_count": 44,
     "metadata": {},
     "output_type": "execute_result"
    }
   ],
   "source": [
    "phone.span()"
   ]
  },
  {
   "cell_type": "code",
   "execution_count": 45,
   "id": "85c4574f",
   "metadata": {},
   "outputs": [
    {
     "data": {
      "text/plain": [
       "'731-224-6877'"
      ]
     },
     "execution_count": 45,
     "metadata": {},
     "output_type": "execute_result"
    }
   ],
   "source": [
    "phone.group()"
   ]
  },
  {
   "cell_type": "code",
   "execution_count": 46,
   "id": "7daf2d83",
   "metadata": {},
   "outputs": [],
   "source": [
    "ph=re.finditer(r'\\d\\d\\d-\\d\\d\\d-\\d\\d\\d\\d',text2)"
   ]
  },
  {
   "cell_type": "code",
   "execution_count": 14,
   "id": "3e8a4ce1",
   "metadata": {},
   "outputs": [],
   "source": [
    "text3=\"My telephone 733-224-68775 7389808584 number is 731-224-6877\""
   ]
  },
  {
   "cell_type": "code",
   "execution_count": 15,
   "id": "e9735f32",
   "metadata": {},
   "outputs": [],
   "source": [
    "phone=re.search(r'\\d\\d\\d-\\d\\d\\d-\\d\\d\\d\\d',text3)"
   ]
  },
  {
   "cell_type": "code",
   "execution_count": 16,
   "id": "3e908e3a",
   "metadata": {},
   "outputs": [
    {
     "data": {
      "text/plain": [
       "<re.Match object; span=(13, 25), match='733-224-6877'>"
      ]
     },
     "execution_count": 16,
     "metadata": {},
     "output_type": "execute_result"
    }
   ],
   "source": [
    "phone"
   ]
  },
  {
   "cell_type": "code",
   "execution_count": 3,
   "id": "e82f37ab",
   "metadata": {},
   "outputs": [],
   "source": [
    "ph=re.finditer(r'\\d\\d\\d-\\d\\d\\d-\\d\\d\\d\\d',text3)"
   ]
  },
  {
   "cell_type": "code",
   "execution_count": 50,
   "id": "714eee37",
   "metadata": {},
   "outputs": [
    {
     "data": {
      "text/plain": [
       "<re.Match object; span=(13, 25), match='733-224-6877'>"
      ]
     },
     "execution_count": 50,
     "metadata": {},
     "output_type": "execute_result"
    }
   ],
   "source": [
    "next(ph)"
   ]
  },
  {
   "cell_type": "code",
   "execution_count": 51,
   "id": "05dccd75",
   "metadata": {},
   "outputs": [
    {
     "data": {
      "text/plain": [
       "<re.Match object; span=(48, 60), match='731-224-6877'>"
      ]
     },
     "execution_count": 51,
     "metadata": {},
     "output_type": "execute_result"
    }
   ],
   "source": [
    "next(ph)"
   ]
  },
  {
   "cell_type": "code",
   "execution_count": 4,
   "id": "8e0d0ca6",
   "metadata": {},
   "outputs": [
    {
     "name": "stdout",
     "output_type": "stream",
     "text": [
      "(13, 25)\n",
      "(48, 60)\n"
     ]
    }
   ],
   "source": [
    "for i in ph:\n",
    "    print(i.span())"
   ]
  },
  {
   "cell_type": "code",
   "execution_count": 5,
   "id": "a772ed3f",
   "metadata": {},
   "outputs": [
    {
     "data": {
      "text/plain": [
       "'731-224-6877'"
      ]
     },
     "execution_count": 5,
     "metadata": {},
     "output_type": "execute_result"
    }
   ],
   "source": [
    "text3[48:60]"
   ]
  },
  {
   "cell_type": "code",
   "execution_count": 6,
   "id": "6bc2ccac",
   "metadata": {},
   "outputs": [],
   "source": [
    "x=\"this man is here\""
   ]
  },
  {
   "cell_type": "code",
   "execution_count": 7,
   "id": "0576d153",
   "metadata": {},
   "outputs": [
    {
     "data": {
      "text/plain": [
       "<re.Match object; span=(5, 8), match='man'>"
      ]
     },
     "execution_count": 7,
     "metadata": {},
     "output_type": "execute_result"
    }
   ],
   "source": [
    "re.search(r\"man|woman\",x)"
   ]
  },
  {
   "cell_type": "code",
   "execution_count": 10,
   "id": "558574cd",
   "metadata": {},
   "outputs": [],
   "source": [
    "x1=\"this woman is here\""
   ]
  },
  {
   "cell_type": "code",
   "execution_count": 11,
   "id": "844ae0db",
   "metadata": {},
   "outputs": [
    {
     "data": {
      "text/plain": [
       "<re.Match object; span=(5, 10), match='woman'>"
      ]
     },
     "execution_count": 11,
     "metadata": {},
     "output_type": "execute_result"
    }
   ],
   "source": [
    "re.search(r\"man|woman\",x1)"
   ]
  },
  {
   "cell_type": "markdown",
   "id": "4f4239aa",
   "metadata": {},
   "source": [
    "# The WildCard Character"
   ]
  },
  {
   "cell_type": "code",
   "execution_count": 17,
   "id": "99d369f2",
   "metadata": {},
   "outputs": [],
   "source": [
    "x='The cat in the hat sat here'"
   ]
  },
  {
   "cell_type": "code",
   "execution_count": 20,
   "id": "5adaeba8",
   "metadata": {},
   "outputs": [
    {
     "data": {
      "text/plain": [
       "['cat', 'hat', 'sat']"
      ]
     },
     "execution_count": 20,
     "metadata": {},
     "output_type": "execute_result"
    }
   ],
   "source": [
    "re.findall(r'.at',x)"
   ]
  },
  {
   "cell_type": "code",
   "execution_count": 21,
   "id": "1307a10c",
   "metadata": {},
   "outputs": [
    {
     "data": {
      "text/plain": [
       "['at', ' t', 'at', 'at']"
      ]
     },
     "execution_count": 21,
     "metadata": {},
     "output_type": "execute_result"
    }
   ],
   "source": [
    "re.findall(r'.t',x)"
   ]
  },
  {
   "cell_type": "markdown",
   "id": "4785ab91",
   "metadata": {},
   "source": [
    "# Topic Starts with and Ends with\n"
   ]
  },
  {
   "cell_type": "code",
   "execution_count": 22,
   "id": "fd97a8c1",
   "metadata": {},
   "outputs": [],
   "source": [
    "phrase=\"there are 3 numbers 34 inside the 5 this sentence\"\n"
   ]
  },
  {
   "cell_type": "code",
   "execution_count": 23,
   "id": "c3a4eb4b",
   "metadata": {},
   "outputs": [
    {
     "data": {
      "text/plain": [
       "['t',\n",
       " 'h',\n",
       " 'e',\n",
       " 'r',\n",
       " 'e',\n",
       " ' ',\n",
       " 'a',\n",
       " 'r',\n",
       " 'e',\n",
       " ' ',\n",
       " ' ',\n",
       " 'n',\n",
       " 'u',\n",
       " 'm',\n",
       " 'b',\n",
       " 'e',\n",
       " 'r',\n",
       " 's',\n",
       " ' ',\n",
       " ' ',\n",
       " 'i',\n",
       " 'n',\n",
       " 's',\n",
       " 'i',\n",
       " 'd',\n",
       " 'e',\n",
       " ' ',\n",
       " 't',\n",
       " 'h',\n",
       " 'e',\n",
       " ' ',\n",
       " ' ',\n",
       " 't',\n",
       " 'h',\n",
       " 'i',\n",
       " 's',\n",
       " ' ',\n",
       " 's',\n",
       " 'e',\n",
       " 'n',\n",
       " 't',\n",
       " 'e',\n",
       " 'n',\n",
       " 'c',\n",
       " 'e']"
      ]
     },
     "execution_count": 23,
     "metadata": {},
     "output_type": "execute_result"
    }
   ],
   "source": [
    "re.findall(r'[^\\d]',phrase)"
   ]
  },
  {
   "cell_type": "code",
   "execution_count": 24,
   "id": "de94c334",
   "metadata": {},
   "outputs": [],
   "source": [
    "res=re.findall(r'[^\\d]',phrase)"
   ]
  },
  {
   "cell_type": "code",
   "execution_count": 25,
   "id": "676bc169",
   "metadata": {},
   "outputs": [
    {
     "data": {
      "text/plain": [
       "'there are  numbers  inside the  this sentence'"
      ]
     },
     "execution_count": 25,
     "metadata": {},
     "output_type": "execute_result"
    }
   ],
   "source": [
    "s=''\n",
    "for i in res:\n",
    "    s=s+i\n",
    "s"
   ]
  },
  {
   "cell_type": "code",
   "execution_count": null,
   "id": "80357201",
   "metadata": {},
   "outputs": [],
   "source": []
  },
  {
   "cell_type": "code",
   "execution_count": null,
   "id": "e25b9709",
   "metadata": {},
   "outputs": [],
   "source": []
  },
  {
   "cell_type": "code",
   "execution_count": null,
   "id": "0e8b4e7d",
   "metadata": {},
   "outputs": [],
   "source": []
  },
  {
   "cell_type": "code",
   "execution_count": null,
   "id": "6cdbd063",
   "metadata": {},
   "outputs": [],
   "source": []
  },
  {
   "cell_type": "code",
   "execution_count": null,
   "id": "164274ef",
   "metadata": {},
   "outputs": [],
   "source": []
  },
  {
   "cell_type": "code",
   "execution_count": null,
   "id": "e31ffab8",
   "metadata": {},
   "outputs": [],
   "source": []
  },
  {
   "cell_type": "code",
   "execution_count": null,
   "id": "80c2540d",
   "metadata": {},
   "outputs": [],
   "source": []
  },
  {
   "cell_type": "code",
   "execution_count": null,
   "id": "b96676e6",
   "metadata": {},
   "outputs": [],
   "source": []
  },
  {
   "cell_type": "code",
   "execution_count": null,
   "id": "0e9c481b",
   "metadata": {},
   "outputs": [],
   "source": []
  },
  {
   "cell_type": "code",
   "execution_count": null,
   "id": "96b2f3fa",
   "metadata": {},
   "outputs": [],
   "source": []
  },
  {
   "cell_type": "code",
   "execution_count": null,
   "id": "8efb0e8e",
   "metadata": {},
   "outputs": [],
   "source": []
  },
  {
   "cell_type": "code",
   "execution_count": null,
   "id": "c94dc5ec",
   "metadata": {},
   "outputs": [],
   "source": []
  },
  {
   "cell_type": "code",
   "execution_count": null,
   "id": "71c6247f",
   "metadata": {},
   "outputs": [],
   "source": []
  },
  {
   "cell_type": "code",
   "execution_count": null,
   "id": "861c2bd7",
   "metadata": {},
   "outputs": [],
   "source": []
  },
  {
   "cell_type": "code",
   "execution_count": null,
   "id": "d12367a3",
   "metadata": {},
   "outputs": [],
   "source": []
  },
  {
   "cell_type": "code",
   "execution_count": null,
   "id": "236ed719",
   "metadata": {},
   "outputs": [],
   "source": []
  },
  {
   "cell_type": "code",
   "execution_count": null,
   "id": "30a77f6f",
   "metadata": {},
   "outputs": [],
   "source": []
  }
 ],
 "metadata": {
  "kernelspec": {
   "display_name": "Python 3",
   "language": "python",
   "name": "python3"
  },
  "language_info": {
   "codemirror_mode": {
    "name": "ipython",
    "version": 3
   },
   "file_extension": ".py",
   "mimetype": "text/x-python",
   "name": "python",
   "nbconvert_exporter": "python",
   "pygments_lexer": "ipython3",
   "version": "3.8.8"
  }
 },
 "nbformat": 4,
 "nbformat_minor": 5
}
